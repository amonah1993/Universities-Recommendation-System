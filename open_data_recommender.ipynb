{
 "cells": [
  {
   "cell_type": "code",
   "execution_count": 390,
   "metadata": {},
   "outputs": [],
   "source": [
    "import pandas as pd \n",
    "import numpy as np \n",
    "from matplotlib import pyplot as plt\n",
    "from sklearn.cluster import KMeans\n",
    "from kmodes.kprototypes import KPrototypes\n",
    "from sklearn.model_selection import train_test_split\n",
    "from sklearn.ensemble import RandomForestRegressor\n",
    "from sklearn.inspection import permutation_importance\n",
    "from matplotlib import pyplot as plt\n",
    "from sklearn.preprocessing import StandardScaler\n",
    "import warnings\n",
    "\n",
    "warnings. filterwarnings(\"ignore\")"
   ]
  },
  {
   "cell_type": "code",
   "execution_count": 391,
   "metadata": {},
   "outputs": [
    {
     "data": {
      "text/plain": [
       "(1185, 34)"
      ]
     },
     "execution_count": 391,
     "metadata": {},
     "output_type": "execute_result"
    }
   ],
   "source": [
    "df=pd.read_csv(\"mergedDataset.csv\")\n",
    "df.shape"
   ]
  },
  {
   "cell_type": "code",
   "execution_count": 392,
   "metadata": {},
   "outputs": [
    {
     "data": {
      "text/html": [
       "<div>\n",
       "<style scoped>\n",
       "    .dataframe tbody tr th:only-of-type {\n",
       "        vertical-align: middle;\n",
       "    }\n",
       "\n",
       "    .dataframe tbody tr th {\n",
       "        vertical-align: top;\n",
       "    }\n",
       "\n",
       "    .dataframe thead th {\n",
       "        text-align: right;\n",
       "    }\n",
       "</style>\n",
       "<table border=\"1\" class=\"dataframe\">\n",
       "  <thead>\n",
       "    <tr style=\"text-align: right;\">\n",
       "      <th></th>\n",
       "      <th>university</th>\n",
       "      <th>year</th>\n",
       "      <th>rank_display</th>\n",
       "      <th>country</th>\n",
       "      <th>city</th>\n",
       "      <th>region</th>\n",
       "      <th>type</th>\n",
       "      <th>research_output</th>\n",
       "      <th>student_faculty_ratio</th>\n",
       "      <th>international_students</th>\n",
       "      <th>...</th>\n",
       "      <th>Safety</th>\n",
       "      <th>Healthcare</th>\n",
       "      <th>Education</th>\n",
       "      <th>Environmental Quality</th>\n",
       "      <th>Economy</th>\n",
       "      <th>Taxation</th>\n",
       "      <th>Internet Access</th>\n",
       "      <th>Leisure &amp; Culture</th>\n",
       "      <th>Tolerance</th>\n",
       "      <th>Outdoors</th>\n",
       "    </tr>\n",
       "  </thead>\n",
       "  <tbody>\n",
       "    <tr>\n",
       "      <th>0</th>\n",
       "      <td>Massachusetts Institute of Technology (MIT)</td>\n",
       "      <td>2021</td>\n",
       "      <td>1</td>\n",
       "      <td>United States</td>\n",
       "      <td>Cambridge</td>\n",
       "      <td>North America</td>\n",
       "      <td>Private</td>\n",
       "      <td>Very High</td>\n",
       "      <td>4.0</td>\n",
       "      <td>3,730</td>\n",
       "      <td>...</td>\n",
       "      <td>NaN</td>\n",
       "      <td>NaN</td>\n",
       "      <td>NaN</td>\n",
       "      <td>NaN</td>\n",
       "      <td>NaN</td>\n",
       "      <td>NaN</td>\n",
       "      <td>NaN</td>\n",
       "      <td>NaN</td>\n",
       "      <td>NaN</td>\n",
       "      <td>NaN</td>\n",
       "    </tr>\n",
       "    <tr>\n",
       "      <th>1</th>\n",
       "      <td>Stanford University</td>\n",
       "      <td>2021</td>\n",
       "      <td>2</td>\n",
       "      <td>United States</td>\n",
       "      <td>Stanford</td>\n",
       "      <td>North America</td>\n",
       "      <td>Private</td>\n",
       "      <td>Very High</td>\n",
       "      <td>3.0</td>\n",
       "      <td>3,879</td>\n",
       "      <td>...</td>\n",
       "      <td>NaN</td>\n",
       "      <td>NaN</td>\n",
       "      <td>NaN</td>\n",
       "      <td>NaN</td>\n",
       "      <td>NaN</td>\n",
       "      <td>NaN</td>\n",
       "      <td>NaN</td>\n",
       "      <td>NaN</td>\n",
       "      <td>NaN</td>\n",
       "      <td>NaN</td>\n",
       "    </tr>\n",
       "    <tr>\n",
       "      <th>2</th>\n",
       "      <td>Harvard University</td>\n",
       "      <td>2021</td>\n",
       "      <td>3</td>\n",
       "      <td>United States</td>\n",
       "      <td>Cambridge</td>\n",
       "      <td>North America</td>\n",
       "      <td>Private</td>\n",
       "      <td>Very High</td>\n",
       "      <td>5.0</td>\n",
       "      <td>5,877</td>\n",
       "      <td>...</td>\n",
       "      <td>NaN</td>\n",
       "      <td>NaN</td>\n",
       "      <td>NaN</td>\n",
       "      <td>NaN</td>\n",
       "      <td>NaN</td>\n",
       "      <td>NaN</td>\n",
       "      <td>NaN</td>\n",
       "      <td>NaN</td>\n",
       "      <td>NaN</td>\n",
       "      <td>NaN</td>\n",
       "    </tr>\n",
       "    <tr>\n",
       "      <th>3</th>\n",
       "      <td>California Institute of Technology (Caltech)</td>\n",
       "      <td>2021</td>\n",
       "      <td>4</td>\n",
       "      <td>United States</td>\n",
       "      <td>Pasadena</td>\n",
       "      <td>North America</td>\n",
       "      <td>Private</td>\n",
       "      <td>Very High</td>\n",
       "      <td>2.0</td>\n",
       "      <td>692</td>\n",
       "      <td>...</td>\n",
       "      <td>NaN</td>\n",
       "      <td>NaN</td>\n",
       "      <td>NaN</td>\n",
       "      <td>NaN</td>\n",
       "      <td>NaN</td>\n",
       "      <td>NaN</td>\n",
       "      <td>NaN</td>\n",
       "      <td>NaN</td>\n",
       "      <td>NaN</td>\n",
       "      <td>NaN</td>\n",
       "    </tr>\n",
       "    <tr>\n",
       "      <th>4</th>\n",
       "      <td>University of Oxford</td>\n",
       "      <td>2021</td>\n",
       "      <td>5</td>\n",
       "      <td>United Kingdom</td>\n",
       "      <td>Oxford</td>\n",
       "      <td>Europe</td>\n",
       "      <td>Public</td>\n",
       "      <td>Very High</td>\n",
       "      <td>3.0</td>\n",
       "      <td>8,442</td>\n",
       "      <td>...</td>\n",
       "      <td>8.5685</td>\n",
       "      <td>7.97</td>\n",
       "      <td>6.6380</td>\n",
       "      <td>7.55375</td>\n",
       "      <td>5.4380</td>\n",
       "      <td>5.9545</td>\n",
       "      <td>6.1545</td>\n",
       "      <td>5.495</td>\n",
       "      <td>8.2580</td>\n",
       "      <td>2.6290</td>\n",
       "    </tr>\n",
       "    <tr>\n",
       "      <th>...</th>\n",
       "      <td>...</td>\n",
       "      <td>...</td>\n",
       "      <td>...</td>\n",
       "      <td>...</td>\n",
       "      <td>...</td>\n",
       "      <td>...</td>\n",
       "      <td>...</td>\n",
       "      <td>...</td>\n",
       "      <td>...</td>\n",
       "      <td>...</td>\n",
       "      <td>...</td>\n",
       "      <td>...</td>\n",
       "      <td>...</td>\n",
       "      <td>...</td>\n",
       "      <td>...</td>\n",
       "      <td>...</td>\n",
       "      <td>...</td>\n",
       "      <td>...</td>\n",
       "      <td>...</td>\n",
       "      <td>...</td>\n",
       "      <td>...</td>\n",
       "    </tr>\n",
       "    <tr>\n",
       "      <th>1180</th>\n",
       "      <td>Weizmann Institute of Science</td>\n",
       "      <td>2021</td>\n",
       "      <td>NaN</td>\n",
       "      <td>Israel</td>\n",
       "      <td>Rehovot</td>\n",
       "      <td>Asia</td>\n",
       "      <td>Public</td>\n",
       "      <td>Very High</td>\n",
       "      <td>NaN</td>\n",
       "      <td>NaN</td>\n",
       "      <td>...</td>\n",
       "      <td>NaN</td>\n",
       "      <td>NaN</td>\n",
       "      <td>NaN</td>\n",
       "      <td>NaN</td>\n",
       "      <td>NaN</td>\n",
       "      <td>NaN</td>\n",
       "      <td>NaN</td>\n",
       "      <td>NaN</td>\n",
       "      <td>NaN</td>\n",
       "      <td>NaN</td>\n",
       "    </tr>\n",
       "    <tr>\n",
       "      <th>1181</th>\n",
       "      <td>Universitatea de Vest din Timisoara /  West Un...</td>\n",
       "      <td>2021</td>\n",
       "      <td>1001</td>\n",
       "      <td>Romania</td>\n",
       "      <td>Timișoara</td>\n",
       "      <td>Europe</td>\n",
       "      <td>Public</td>\n",
       "      <td>High</td>\n",
       "      <td>21.0</td>\n",
       "      <td>799</td>\n",
       "      <td>...</td>\n",
       "      <td>NaN</td>\n",
       "      <td>NaN</td>\n",
       "      <td>NaN</td>\n",
       "      <td>NaN</td>\n",
       "      <td>NaN</td>\n",
       "      <td>NaN</td>\n",
       "      <td>NaN</td>\n",
       "      <td>NaN</td>\n",
       "      <td>NaN</td>\n",
       "      <td>NaN</td>\n",
       "    </tr>\n",
       "    <tr>\n",
       "      <th>1182</th>\n",
       "      <td>WHU - Otto Beisheim School of Management</td>\n",
       "      <td>2021</td>\n",
       "      <td>NaN</td>\n",
       "      <td>Germany</td>\n",
       "      <td>Vallendar</td>\n",
       "      <td>Europe</td>\n",
       "      <td>Private</td>\n",
       "      <td>Very High</td>\n",
       "      <td>NaN</td>\n",
       "      <td>NaN</td>\n",
       "      <td>...</td>\n",
       "      <td>NaN</td>\n",
       "      <td>NaN</td>\n",
       "      <td>NaN</td>\n",
       "      <td>NaN</td>\n",
       "      <td>NaN</td>\n",
       "      <td>NaN</td>\n",
       "      <td>NaN</td>\n",
       "      <td>NaN</td>\n",
       "      <td>NaN</td>\n",
       "      <td>NaN</td>\n",
       "    </tr>\n",
       "    <tr>\n",
       "      <th>1183</th>\n",
       "      <td>Yarmouk University</td>\n",
       "      <td>2021</td>\n",
       "      <td>1001</td>\n",
       "      <td>Jordan</td>\n",
       "      <td>Irbid</td>\n",
       "      <td>Asia</td>\n",
       "      <td>Public</td>\n",
       "      <td>Medium</td>\n",
       "      <td>31.0</td>\n",
       "      <td>2,826</td>\n",
       "      <td>...</td>\n",
       "      <td>NaN</td>\n",
       "      <td>NaN</td>\n",
       "      <td>NaN</td>\n",
       "      <td>NaN</td>\n",
       "      <td>NaN</td>\n",
       "      <td>NaN</td>\n",
       "      <td>NaN</td>\n",
       "      <td>NaN</td>\n",
       "      <td>NaN</td>\n",
       "      <td>NaN</td>\n",
       "    </tr>\n",
       "    <tr>\n",
       "      <th>1184</th>\n",
       "      <td>Yildiz Technical University</td>\n",
       "      <td>2021</td>\n",
       "      <td>1001</td>\n",
       "      <td>Turkey</td>\n",
       "      <td>Istanbul</td>\n",
       "      <td>Asia</td>\n",
       "      <td>Public</td>\n",
       "      <td>High</td>\n",
       "      <td>20.0</td>\n",
       "      <td>2,394</td>\n",
       "      <td>...</td>\n",
       "      <td>6.8935</td>\n",
       "      <td>6.84</td>\n",
       "      <td>2.1525</td>\n",
       "      <td>3.40475</td>\n",
       "      <td>4.0935</td>\n",
       "      <td>4.3235</td>\n",
       "      <td>3.5005</td>\n",
       "      <td>10.000</td>\n",
       "      <td>3.8925</td>\n",
       "      <td>5.7435</td>\n",
       "    </tr>\n",
       "  </tbody>\n",
       "</table>\n",
       "<p>1185 rows × 30 columns</p>\n",
       "</div>"
      ],
      "text/plain": [
       "                                             university  year rank_display  \\\n",
       "0          Massachusetts Institute of Technology (MIT)   2021            1   \n",
       "1                                   Stanford University  2021            2   \n",
       "2                                    Harvard University  2021            3   \n",
       "3          California Institute of Technology (Caltech)  2021            4   \n",
       "4                                  University of Oxford  2021            5   \n",
       "...                                                 ...   ...          ...   \n",
       "1180                      Weizmann Institute of Science  2021          NaN   \n",
       "1181  Universitatea de Vest din Timisoara /  West Un...  2021         1001   \n",
       "1182          WHU - Otto Beisheim School of Management   2021          NaN   \n",
       "1183                                 Yarmouk University  2021         1001   \n",
       "1184                        Yildiz Technical University  2021         1001   \n",
       "\n",
       "             country       city         region     type research_output  \\\n",
       "0      United States  Cambridge  North America  Private       Very High   \n",
       "1      United States   Stanford  North America  Private       Very High   \n",
       "2      United States  Cambridge  North America  Private       Very High   \n",
       "3      United States   Pasadena  North America  Private       Very High   \n",
       "4     United Kingdom     Oxford         Europe   Public       Very High   \n",
       "...              ...        ...            ...      ...             ...   \n",
       "1180          Israel    Rehovot           Asia   Public       Very High   \n",
       "1181         Romania  Timișoara         Europe   Public            High   \n",
       "1182         Germany  Vallendar         Europe  Private       Very High   \n",
       "1183          Jordan      Irbid           Asia   Public          Medium   \n",
       "1184          Turkey   Istanbul           Asia   Public            High   \n",
       "\n",
       "      student_faculty_ratio international_students  ...  Safety Healthcare  \\\n",
       "0                       4.0                  3,730  ...     NaN        NaN   \n",
       "1                       3.0                  3,879  ...     NaN        NaN   \n",
       "2                       5.0                  5,877  ...     NaN        NaN   \n",
       "3                       2.0                    692  ...     NaN        NaN   \n",
       "4                       3.0                  8,442  ...  8.5685       7.97   \n",
       "...                     ...                    ...  ...     ...        ...   \n",
       "1180                    NaN                    NaN  ...     NaN        NaN   \n",
       "1181                   21.0                    799  ...     NaN        NaN   \n",
       "1182                    NaN                    NaN  ...     NaN        NaN   \n",
       "1183                   31.0                  2,826  ...     NaN        NaN   \n",
       "1184                   20.0                  2,394  ...  6.8935       6.84   \n",
       "\n",
       "      Education  Environmental Quality  Economy  Taxation  Internet Access  \\\n",
       "0           NaN                    NaN      NaN       NaN              NaN   \n",
       "1           NaN                    NaN      NaN       NaN              NaN   \n",
       "2           NaN                    NaN      NaN       NaN              NaN   \n",
       "3           NaN                    NaN      NaN       NaN              NaN   \n",
       "4        6.6380                7.55375   5.4380    5.9545           6.1545   \n",
       "...         ...                    ...      ...       ...              ...   \n",
       "1180        NaN                    NaN      NaN       NaN              NaN   \n",
       "1181        NaN                    NaN      NaN       NaN              NaN   \n",
       "1182        NaN                    NaN      NaN       NaN              NaN   \n",
       "1183        NaN                    NaN      NaN       NaN              NaN   \n",
       "1184     2.1525                3.40475   4.0935    4.3235           3.5005   \n",
       "\n",
       "      Leisure & Culture  Tolerance  Outdoors  \n",
       "0                   NaN        NaN       NaN  \n",
       "1                   NaN        NaN       NaN  \n",
       "2                   NaN        NaN       NaN  \n",
       "3                   NaN        NaN       NaN  \n",
       "4                 5.495     8.2580    2.6290  \n",
       "...                 ...        ...       ...  \n",
       "1180                NaN        NaN       NaN  \n",
       "1181                NaN        NaN       NaN  \n",
       "1182                NaN        NaN       NaN  \n",
       "1183                NaN        NaN       NaN  \n",
       "1184             10.000     3.8925    5.7435  \n",
       "\n",
       "[1185 rows x 30 columns]"
      ]
     },
     "execution_count": 392,
     "metadata": {},
     "output_type": "execute_result"
    }
   ],
   "source": [
    "data = df.drop([\"score\",\"UA_Continent\", \"logo\", \"link\"], axis=1)\n",
    "data"
   ]
  },
  {
   "cell_type": "code",
   "execution_count": 393,
   "metadata": {},
   "outputs": [],
   "source": [
    "#Solving the error for the numerical value\n",
    "#Refercence: https://stackoverflow.com/questions/43858595/how-do-i-fix-invalid-literal-for-int-with-base-10-error-in-pandas\n",
    "\n",
    "data['international_students'] = pd.to_numeric(data['international_students'], errors=\"coerce\")"
   ]
  },
  {
   "cell_type": "code",
   "execution_count": 394,
   "metadata": {},
   "outputs": [],
   "source": [
    "data['international_students'] = data['international_students'].astype(float)"
   ]
  },
  {
   "cell_type": "code",
   "execution_count": 395,
   "metadata": {},
   "outputs": [],
   "source": [
    "data['faculty_count'] = pd.to_numeric(data['faculty_count'], errors=\"coerce\")"
   ]
  },
  {
   "cell_type": "code",
   "execution_count": 396,
   "metadata": {},
   "outputs": [],
   "source": [
    "data['faculty_count'] = data['faculty_count'].astype(float)"
   ]
  },
  {
   "cell_type": "code",
   "execution_count": 397,
   "metadata": {},
   "outputs": [
    {
     "data": {
      "text/html": [
       "<div>\n",
       "<style scoped>\n",
       "    .dataframe tbody tr th:only-of-type {\n",
       "        vertical-align: middle;\n",
       "    }\n",
       "\n",
       "    .dataframe tbody tr th {\n",
       "        vertical-align: top;\n",
       "    }\n",
       "\n",
       "    .dataframe thead th {\n",
       "        text-align: right;\n",
       "    }\n",
       "</style>\n",
       "<table border=\"1\" class=\"dataframe\">\n",
       "  <thead>\n",
       "    <tr style=\"text-align: right;\">\n",
       "      <th></th>\n",
       "      <th>university</th>\n",
       "      <th>year</th>\n",
       "      <th>rank_display</th>\n",
       "      <th>country</th>\n",
       "      <th>city</th>\n",
       "      <th>region</th>\n",
       "      <th>type</th>\n",
       "      <th>research_output</th>\n",
       "      <th>student_faculty_ratio</th>\n",
       "      <th>international_students</th>\n",
       "      <th>...</th>\n",
       "      <th>Safety</th>\n",
       "      <th>Healthcare</th>\n",
       "      <th>Education</th>\n",
       "      <th>Environmental Quality</th>\n",
       "      <th>Economy</th>\n",
       "      <th>Taxation</th>\n",
       "      <th>Internet Access</th>\n",
       "      <th>Leisure &amp; Culture</th>\n",
       "      <th>Tolerance</th>\n",
       "      <th>Outdoors</th>\n",
       "    </tr>\n",
       "  </thead>\n",
       "  <tbody>\n",
       "    <tr>\n",
       "      <th>4</th>\n",
       "      <td>University of Oxford</td>\n",
       "      <td>2021</td>\n",
       "      <td>5</td>\n",
       "      <td>United Kingdom</td>\n",
       "      <td>Oxford</td>\n",
       "      <td>Europe</td>\n",
       "      <td>Public</td>\n",
       "      <td>Very High</td>\n",
       "      <td>3.0</td>\n",
       "      <td>NaN</td>\n",
       "      <td>...</td>\n",
       "      <td>8.5685</td>\n",
       "      <td>7.970000</td>\n",
       "      <td>6.6380</td>\n",
       "      <td>7.55375</td>\n",
       "      <td>5.4380</td>\n",
       "      <td>5.9545</td>\n",
       "      <td>6.1545</td>\n",
       "      <td>5.4950</td>\n",
       "      <td>8.2580</td>\n",
       "      <td>2.6290</td>\n",
       "    </tr>\n",
       "    <tr>\n",
       "      <th>6</th>\n",
       "      <td>University of Cambridge</td>\n",
       "      <td>2021</td>\n",
       "      <td>7</td>\n",
       "      <td>United Kingdom</td>\n",
       "      <td>Cambridge</td>\n",
       "      <td>Europe</td>\n",
       "      <td>Public</td>\n",
       "      <td>Very high</td>\n",
       "      <td>4.0</td>\n",
       "      <td>NaN</td>\n",
       "      <td>...</td>\n",
       "      <td>9.5045</td>\n",
       "      <td>8.189000</td>\n",
       "      <td>6.5545</td>\n",
       "      <td>8.01650</td>\n",
       "      <td>5.4380</td>\n",
       "      <td>5.9545</td>\n",
       "      <td>5.8095</td>\n",
       "      <td>2.4550</td>\n",
       "      <td>8.4870</td>\n",
       "      <td>0.5000</td>\n",
       "    </tr>\n",
       "    <tr>\n",
       "      <th>7</th>\n",
       "      <td>Imperial College London</td>\n",
       "      <td>2021</td>\n",
       "      <td>8</td>\n",
       "      <td>United Kingdom</td>\n",
       "      <td>London</td>\n",
       "      <td>Europe</td>\n",
       "      <td>Public</td>\n",
       "      <td>Very High</td>\n",
       "      <td>5.0</td>\n",
       "      <td>NaN</td>\n",
       "      <td>...</td>\n",
       "      <td>7.2435</td>\n",
       "      <td>8.018000</td>\n",
       "      <td>9.0270</td>\n",
       "      <td>5.54775</td>\n",
       "      <td>5.4380</td>\n",
       "      <td>5.9545</td>\n",
       "      <td>5.8455</td>\n",
       "      <td>9.4555</td>\n",
       "      <td>6.5730</td>\n",
       "      <td>5.3745</td>\n",
       "    </tr>\n",
       "    <tr>\n",
       "      <th>9</th>\n",
       "      <td>UCL</td>\n",
       "      <td>2021</td>\n",
       "      <td>10</td>\n",
       "      <td>United Kingdom</td>\n",
       "      <td>London</td>\n",
       "      <td>Europe</td>\n",
       "      <td>Public</td>\n",
       "      <td>Very High</td>\n",
       "      <td>5.0</td>\n",
       "      <td>NaN</td>\n",
       "      <td>...</td>\n",
       "      <td>7.2435</td>\n",
       "      <td>8.018000</td>\n",
       "      <td>9.0270</td>\n",
       "      <td>5.54775</td>\n",
       "      <td>5.4380</td>\n",
       "      <td>5.9545</td>\n",
       "      <td>5.8455</td>\n",
       "      <td>9.4555</td>\n",
       "      <td>6.5730</td>\n",
       "      <td>5.3745</td>\n",
       "    </tr>\n",
       "    <tr>\n",
       "      <th>10</th>\n",
       "      <td>National University of Singapore (NUS)</td>\n",
       "      <td>2021</td>\n",
       "      <td>11</td>\n",
       "      <td>Singapore</td>\n",
       "      <td>Singapore</td>\n",
       "      <td>Asia</td>\n",
       "      <td>Public</td>\n",
       "      <td>Very High</td>\n",
       "      <td>7.0</td>\n",
       "      <td>NaN</td>\n",
       "      <td>...</td>\n",
       "      <td>9.9715</td>\n",
       "      <td>7.682667</td>\n",
       "      <td>8.2465</td>\n",
       "      <td>7.95425</td>\n",
       "      <td>7.4785</td>\n",
       "      <td>9.9590</td>\n",
       "      <td>8.4470</td>\n",
       "      <td>7.4225</td>\n",
       "      <td>6.4950</td>\n",
       "      <td>5.8340</td>\n",
       "    </tr>\n",
       "    <tr>\n",
       "      <th>...</th>\n",
       "      <td>...</td>\n",
       "      <td>...</td>\n",
       "      <td>...</td>\n",
       "      <td>...</td>\n",
       "      <td>...</td>\n",
       "      <td>...</td>\n",
       "      <td>...</td>\n",
       "      <td>...</td>\n",
       "      <td>...</td>\n",
       "      <td>...</td>\n",
       "      <td>...</td>\n",
       "      <td>...</td>\n",
       "      <td>...</td>\n",
       "      <td>...</td>\n",
       "      <td>...</td>\n",
       "      <td>...</td>\n",
       "      <td>...</td>\n",
       "      <td>...</td>\n",
       "      <td>...</td>\n",
       "      <td>...</td>\n",
       "      <td>...</td>\n",
       "    </tr>\n",
       "    <tr>\n",
       "      <th>1173</th>\n",
       "      <td>University of the Western Cape</td>\n",
       "      <td>2021</td>\n",
       "      <td>1001</td>\n",
       "      <td>South Africa</td>\n",
       "      <td>Cape Town</td>\n",
       "      <td>Africa</td>\n",
       "      <td>Public</td>\n",
       "      <td>High</td>\n",
       "      <td>24.0</td>\n",
       "      <td>NaN</td>\n",
       "      <td>...</td>\n",
       "      <td>5.3280</td>\n",
       "      <td>4.343000</td>\n",
       "      <td>0.8945</td>\n",
       "      <td>6.60850</td>\n",
       "      <td>2.7680</td>\n",
       "      <td>5.1510</td>\n",
       "      <td>5.6125</td>\n",
       "      <td>4.7360</td>\n",
       "      <td>3.6605</td>\n",
       "      <td>6.7505</td>\n",
       "    </tr>\n",
       "    <tr>\n",
       "      <th>1175</th>\n",
       "      <td>University POLITEHNICA of Bucharest</td>\n",
       "      <td>2021</td>\n",
       "      <td>1001</td>\n",
       "      <td>Romania</td>\n",
       "      <td>Bucharest</td>\n",
       "      <td>Europe</td>\n",
       "      <td>Public</td>\n",
       "      <td>Very High</td>\n",
       "      <td>24.0</td>\n",
       "      <td>922.0</td>\n",
       "      <td>...</td>\n",
       "      <td>8.9860</td>\n",
       "      <td>6.075333</td>\n",
       "      <td>2.4475</td>\n",
       "      <td>3.41925</td>\n",
       "      <td>4.1030</td>\n",
       "      <td>6.8390</td>\n",
       "      <td>9.6380</td>\n",
       "      <td>6.9595</td>\n",
       "      <td>8.6865</td>\n",
       "      <td>1.9675</td>\n",
       "    </tr>\n",
       "    <tr>\n",
       "      <th>1176</th>\n",
       "      <td>Université de Toulouse II-Le Mirail</td>\n",
       "      <td>2021</td>\n",
       "      <td>1001</td>\n",
       "      <td>France</td>\n",
       "      <td>Toulouse</td>\n",
       "      <td>Europe</td>\n",
       "      <td>Public</td>\n",
       "      <td>High</td>\n",
       "      <td>58.0</td>\n",
       "      <td>NaN</td>\n",
       "      <td>...</td>\n",
       "      <td>6.9670</td>\n",
       "      <td>8.832000</td>\n",
       "      <td>4.4420</td>\n",
       "      <td>5.07975</td>\n",
       "      <td>4.2045</td>\n",
       "      <td>2.6480</td>\n",
       "      <td>4.6220</td>\n",
       "      <td>4.1370</td>\n",
       "      <td>7.6335</td>\n",
       "      <td>3.3040</td>\n",
       "    </tr>\n",
       "    <tr>\n",
       "      <th>1179</th>\n",
       "      <td>Warsaw University of Life Sciences – SGGW (WUL...</td>\n",
       "      <td>2021</td>\n",
       "      <td>1001</td>\n",
       "      <td>Poland</td>\n",
       "      <td>Warsaw</td>\n",
       "      <td>Europe</td>\n",
       "      <td>Public</td>\n",
       "      <td>Very High</td>\n",
       "      <td>12.0</td>\n",
       "      <td>NaN</td>\n",
       "      <td>...</td>\n",
       "      <td>8.6995</td>\n",
       "      <td>6.881667</td>\n",
       "      <td>4.6685</td>\n",
       "      <td>6.38900</td>\n",
       "      <td>4.7615</td>\n",
       "      <td>5.0970</td>\n",
       "      <td>6.0000</td>\n",
       "      <td>7.3355</td>\n",
       "      <td>4.6360</td>\n",
       "      <td>4.9610</td>\n",
       "    </tr>\n",
       "    <tr>\n",
       "      <th>1184</th>\n",
       "      <td>Yildiz Technical University</td>\n",
       "      <td>2021</td>\n",
       "      <td>1001</td>\n",
       "      <td>Turkey</td>\n",
       "      <td>Istanbul</td>\n",
       "      <td>Asia</td>\n",
       "      <td>Public</td>\n",
       "      <td>High</td>\n",
       "      <td>20.0</td>\n",
       "      <td>NaN</td>\n",
       "      <td>...</td>\n",
       "      <td>6.8935</td>\n",
       "      <td>6.840000</td>\n",
       "      <td>2.1525</td>\n",
       "      <td>3.40475</td>\n",
       "      <td>4.0935</td>\n",
       "      <td>4.3235</td>\n",
       "      <td>3.5005</td>\n",
       "      <td>10.0000</td>\n",
       "      <td>3.8925</td>\n",
       "      <td>5.7435</td>\n",
       "    </tr>\n",
       "  </tbody>\n",
       "</table>\n",
       "<p>355 rows × 30 columns</p>\n",
       "</div>"
      ],
      "text/plain": [
       "                                             university  year rank_display  \\\n",
       "4                                  University of Oxford  2021            5   \n",
       "6                               University of Cambridge  2021            7   \n",
       "7                               Imperial College London  2021            8   \n",
       "9                                                   UCL  2021           10   \n",
       "10               National University of Singapore (NUS)  2021           11   \n",
       "...                                                 ...   ...          ...   \n",
       "1173                     University of the Western Cape  2021         1001   \n",
       "1175                University POLITEHNICA of Bucharest  2021         1001   \n",
       "1176                Université de Toulouse II-Le Mirail  2021         1001   \n",
       "1179  Warsaw University of Life Sciences – SGGW (WUL...  2021         1001   \n",
       "1184                        Yildiz Technical University  2021         1001   \n",
       "\n",
       "             country       city  region    type research_output  \\\n",
       "4     United Kingdom     Oxford  Europe  Public       Very High   \n",
       "6     United Kingdom  Cambridge  Europe  Public       Very high   \n",
       "7     United Kingdom     London  Europe  Public       Very High   \n",
       "9     United Kingdom     London  Europe  Public       Very High   \n",
       "10         Singapore  Singapore    Asia  Public       Very High   \n",
       "...              ...        ...     ...     ...             ...   \n",
       "1173    South Africa  Cape Town  Africa  Public            High   \n",
       "1175         Romania  Bucharest  Europe  Public       Very High   \n",
       "1176          France   Toulouse  Europe  Public            High   \n",
       "1179          Poland     Warsaw  Europe  Public       Very High   \n",
       "1184          Turkey   Istanbul    Asia  Public            High   \n",
       "\n",
       "      student_faculty_ratio  international_students  ...  Safety  Healthcare  \\\n",
       "4                       3.0                     NaN  ...  8.5685    7.970000   \n",
       "6                       4.0                     NaN  ...  9.5045    8.189000   \n",
       "7                       5.0                     NaN  ...  7.2435    8.018000   \n",
       "9                       5.0                     NaN  ...  7.2435    8.018000   \n",
       "10                      7.0                     NaN  ...  9.9715    7.682667   \n",
       "...                     ...                     ...  ...     ...         ...   \n",
       "1173                   24.0                     NaN  ...  5.3280    4.343000   \n",
       "1175                   24.0                   922.0  ...  8.9860    6.075333   \n",
       "1176                   58.0                     NaN  ...  6.9670    8.832000   \n",
       "1179                   12.0                     NaN  ...  8.6995    6.881667   \n",
       "1184                   20.0                     NaN  ...  6.8935    6.840000   \n",
       "\n",
       "      Education  Environmental Quality  Economy  Taxation  Internet Access  \\\n",
       "4        6.6380                7.55375   5.4380    5.9545           6.1545   \n",
       "6        6.5545                8.01650   5.4380    5.9545           5.8095   \n",
       "7        9.0270                5.54775   5.4380    5.9545           5.8455   \n",
       "9        9.0270                5.54775   5.4380    5.9545           5.8455   \n",
       "10       8.2465                7.95425   7.4785    9.9590           8.4470   \n",
       "...         ...                    ...      ...       ...              ...   \n",
       "1173     0.8945                6.60850   2.7680    5.1510           5.6125   \n",
       "1175     2.4475                3.41925   4.1030    6.8390           9.6380   \n",
       "1176     4.4420                5.07975   4.2045    2.6480           4.6220   \n",
       "1179     4.6685                6.38900   4.7615    5.0970           6.0000   \n",
       "1184     2.1525                3.40475   4.0935    4.3235           3.5005   \n",
       "\n",
       "      Leisure & Culture  Tolerance  Outdoors  \n",
       "4                5.4950     8.2580    2.6290  \n",
       "6                2.4550     8.4870    0.5000  \n",
       "7                9.4555     6.5730    5.3745  \n",
       "9                9.4555     6.5730    5.3745  \n",
       "10               7.4225     6.4950    5.8340  \n",
       "...                 ...        ...       ...  \n",
       "1173             4.7360     3.6605    6.7505  \n",
       "1175             6.9595     8.6865    1.9675  \n",
       "1176             4.1370     7.6335    3.3040  \n",
       "1179             7.3355     4.6360    4.9610  \n",
       "1184            10.0000     3.8925    5.7435  \n",
       "\n",
       "[355 rows x 30 columns]"
      ]
     },
     "execution_count": 397,
     "metadata": {},
     "output_type": "execute_result"
    }
   ],
   "source": [
    "data.dropna(subset=['Unnamed: 0'], inplace=True)\n",
    "data"
   ]
  },
  {
   "cell_type": "code",
   "execution_count": 398,
   "metadata": {},
   "outputs": [],
   "source": [
    "data[\"rank_display\"]= data[\"rank_display\"].fillna(\"1001\")"
   ]
  },
  {
   "cell_type": "code",
   "execution_count": 399,
   "metadata": {},
   "outputs": [],
   "source": [
    "#Fill na values for categorical variables\n",
    "#Reference: https://stackoverflow.com/questions/49050974/how-fill-na-null-for-categorical-varibles-in-python-using-fillna-function\n",
    "data['rank_display'].fillna(data['rank_display'].value_counts().index[0], inplace=True)"
   ]
  },
  {
   "cell_type": "code",
   "execution_count": 400,
   "metadata": {},
   "outputs": [],
   "source": [
    "data['type'].fillna(data['type'].value_counts().index[0], inplace=True)"
   ]
  },
  {
   "cell_type": "code",
   "execution_count": 401,
   "metadata": {},
   "outputs": [],
   "source": [
    "data['research_output'].fillna(data['research_output'].value_counts().index[0], inplace=True)"
   ]
  },
  {
   "cell_type": "code",
   "execution_count": 402,
   "metadata": {},
   "outputs": [],
   "source": [
    "data['student_faculty_ratio'].fillna(data['student_faculty_ratio'].mean(), inplace=True)"
   ]
  },
  {
   "cell_type": "code",
   "execution_count": 403,
   "metadata": {},
   "outputs": [],
   "source": [
    "data['international_students'].fillna(data['international_students'].mean(), inplace=True)"
   ]
  },
  {
   "cell_type": "code",
   "execution_count": 404,
   "metadata": {},
   "outputs": [],
   "source": [
    "data['size'].fillna(data['size'].value_counts().index[0], inplace=True)"
   ]
  },
  {
   "cell_type": "code",
   "execution_count": 405,
   "metadata": {},
   "outputs": [],
   "source": [
    "data['faculty_count'].fillna(data['faculty_count'].mean(), inplace=True)"
   ]
  },
  {
   "cell_type": "code",
   "execution_count": 406,
   "metadata": {},
   "outputs": [
    {
     "data": {
      "text/plain": [
       "university                0\n",
       "year                      0\n",
       "rank_display              0\n",
       "country                   0\n",
       "city                      0\n",
       "region                    0\n",
       "type                      0\n",
       "research_output           0\n",
       "student_faculty_ratio     0\n",
       "international_students    0\n",
       "size                      0\n",
       "faculty_count             0\n",
       "Unnamed: 0                0\n",
       "Housing                   0\n",
       "Cost of Living            0\n",
       "Startups                  0\n",
       "Venture Capital           0\n",
       "Travel Connectivity       0\n",
       "Commute                   0\n",
       "Business Freedom          0\n",
       "Safety                    0\n",
       "Healthcare                0\n",
       "Education                 0\n",
       "Environmental Quality     0\n",
       "Economy                   0\n",
       "Taxation                  0\n",
       "Internet Access           0\n",
       "Leisure & Culture         0\n",
       "Tolerance                 0\n",
       "Outdoors                  0\n",
       "dtype: int64"
      ]
     },
     "execution_count": 406,
     "metadata": {},
     "output_type": "execute_result"
    }
   ],
   "source": [
    "data.isnull().sum()"
   ]
  },
  {
   "cell_type": "code",
   "execution_count": 407,
   "metadata": {},
   "outputs": [],
   "source": [
    "data.drop('Unnamed: 0', inplace=True, axis=1)"
   ]
  },
  {
   "cell_type": "code",
   "execution_count": 408,
   "metadata": {},
   "outputs": [
    {
     "data": {
      "text/plain": [
       "Index(['university', 'year', 'rank_display', 'country', 'city', 'region',\n",
       "       'type', 'research_output', 'student_faculty_ratio',\n",
       "       'international_students', 'size', 'faculty_count', 'Housing',\n",
       "       'Cost of Living', 'Startups', 'Venture Capital', 'Travel Connectivity',\n",
       "       'Commute', 'Business Freedom', 'Safety', 'Healthcare', 'Education',\n",
       "       'Environmental Quality', 'Economy', 'Taxation', 'Internet Access',\n",
       "       'Leisure & Culture', 'Tolerance', 'Outdoors'],\n",
       "      dtype='object')"
      ]
     },
     "execution_count": 408,
     "metadata": {},
     "output_type": "execute_result"
    }
   ],
   "source": [
    "data.columns"
   ]
  },
  {
   "cell_type": "code",
   "execution_count": 409,
   "metadata": {},
   "outputs": [],
   "source": [
    "\n",
    "data.loc[data['student_faculty_ratio'] == 0, \"student_faculty_ratio\"]=data['student_faculty_ratio'].mean()\n",
    "data.loc[data['international_students'] == 0, \"international_students\"]=data['international_students'].mean()\n",
    "data.loc[data['faculty_count'] == 0, \"faculty_count\"]=data['faculty_count'].mean()\n",
    "data.loc[data['Housing'] == 0, \"Housing\"]=data['Housing'].mean()\n",
    "data.loc[data['Cost of Living'] == 0, \"Cost of Living\"]=data['Cost of Living'].mean()\n",
    "data.loc[data['Startups'] == 0, \"Startups\"]=data['Startups'].mean()\n",
    "data.loc[data['Venture Capital'] == 0, \"Venture Capital\"]=data['Venture Capital'].mean()\n",
    "data.loc[data['Travel Connectivity'] == 0, \"Travel Connectivity\"]=data['Travel Connectivity'].mean()\n",
    "data.loc[data['Commute'] == 0, \"Commute\"]=data['Commute'].mean()\n",
    "data.loc[data['Business Freedom'] == 0, \"Business Freedom\"]=data['Business Freedom'].mean()\n",
    "data.loc[data['Safety'] == 0, \"Safety\"]=data['Safety'].mean()\n",
    "data.loc[data['Healthcare'] == 0, \"Healthcare\"]=data['Healthcare'].mean()\n",
    "data.loc[data['Education'] == 0, \"Education\"]=data['Education'].mean()\n",
    "data.loc[data['Environmental Quality'] == 0, \"Environmental Quality\"]=data['Environmental Quality'].mean()\n",
    "data.loc[data['Economy'] == 0, \"Economy\"]=data['Economy'].mean()\n",
    "data.loc[data['Taxation'] == 0, \"Taxation\"]=data['Taxation'].mean()\n",
    "data.loc[data['Internet Access'] == 0, \"Internet Access\"]=data['Internet Access'].mean()\n",
    "data.loc[data['Leisure & Culture'] == 0, \"Leisure & Culture\"]=data['Leisure & Culture'].mean()\n",
    "data.loc[data['Tolerance'] == 0, \"Tolerance\"]=data['Tolerance'].mean()\n",
    "data.loc[data['Outdoors'] == 0, \"Outdoors\"]=data['Outdoors'].mean()\n",
    "\n"
   ]
  },
  {
   "cell_type": "code",
   "execution_count": 410,
   "metadata": {},
   "outputs": [],
   "source": [
    "data=data.reset_index()\n"
   ]
  },
  {
   "cell_type": "code",
   "execution_count": 411,
   "metadata": {},
   "outputs": [
    {
     "data": {
      "text/html": [
       "<div>\n",
       "<style scoped>\n",
       "    .dataframe tbody tr th:only-of-type {\n",
       "        vertical-align: middle;\n",
       "    }\n",
       "\n",
       "    .dataframe tbody tr th {\n",
       "        vertical-align: top;\n",
       "    }\n",
       "\n",
       "    .dataframe thead th {\n",
       "        text-align: right;\n",
       "    }\n",
       "</style>\n",
       "<table border=\"1\" class=\"dataframe\">\n",
       "  <thead>\n",
       "    <tr style=\"text-align: right;\">\n",
       "      <th></th>\n",
       "      <th>university</th>\n",
       "      <th>year</th>\n",
       "      <th>rank_display</th>\n",
       "      <th>country</th>\n",
       "      <th>city</th>\n",
       "      <th>region</th>\n",
       "      <th>type</th>\n",
       "      <th>research_output</th>\n",
       "      <th>student_faculty_ratio</th>\n",
       "      <th>international_students</th>\n",
       "      <th>...</th>\n",
       "      <th>Safety</th>\n",
       "      <th>Healthcare</th>\n",
       "      <th>Education</th>\n",
       "      <th>Environmental Quality</th>\n",
       "      <th>Economy</th>\n",
       "      <th>Taxation</th>\n",
       "      <th>Internet Access</th>\n",
       "      <th>Leisure &amp; Culture</th>\n",
       "      <th>Tolerance</th>\n",
       "      <th>Outdoors</th>\n",
       "    </tr>\n",
       "  </thead>\n",
       "  <tbody>\n",
       "    <tr>\n",
       "      <th>0</th>\n",
       "      <td>University of Oxford</td>\n",
       "      <td>2021</td>\n",
       "      <td>5</td>\n",
       "      <td>United Kingdom</td>\n",
       "      <td>Oxford</td>\n",
       "      <td>Europe</td>\n",
       "      <td>Public</td>\n",
       "      <td>Very High</td>\n",
       "      <td>3.0</td>\n",
       "      <td>227.089556</td>\n",
       "      <td>...</td>\n",
       "      <td>8.5685</td>\n",
       "      <td>7.970000</td>\n",
       "      <td>6.6380</td>\n",
       "      <td>7.55375</td>\n",
       "      <td>5.4380</td>\n",
       "      <td>5.9545</td>\n",
       "      <td>6.1545</td>\n",
       "      <td>5.4950</td>\n",
       "      <td>8.2580</td>\n",
       "      <td>2.6290</td>\n",
       "    </tr>\n",
       "    <tr>\n",
       "      <th>1</th>\n",
       "      <td>University of Cambridge</td>\n",
       "      <td>2021</td>\n",
       "      <td>7</td>\n",
       "      <td>United Kingdom</td>\n",
       "      <td>Cambridge</td>\n",
       "      <td>Europe</td>\n",
       "      <td>Public</td>\n",
       "      <td>Very high</td>\n",
       "      <td>4.0</td>\n",
       "      <td>227.089556</td>\n",
       "      <td>...</td>\n",
       "      <td>9.5045</td>\n",
       "      <td>8.189000</td>\n",
       "      <td>6.5545</td>\n",
       "      <td>8.01650</td>\n",
       "      <td>5.4380</td>\n",
       "      <td>5.9545</td>\n",
       "      <td>5.8095</td>\n",
       "      <td>2.4550</td>\n",
       "      <td>8.4870</td>\n",
       "      <td>0.5000</td>\n",
       "    </tr>\n",
       "    <tr>\n",
       "      <th>2</th>\n",
       "      <td>Imperial College London</td>\n",
       "      <td>2021</td>\n",
       "      <td>8</td>\n",
       "      <td>United Kingdom</td>\n",
       "      <td>London</td>\n",
       "      <td>Europe</td>\n",
       "      <td>Public</td>\n",
       "      <td>Very High</td>\n",
       "      <td>5.0</td>\n",
       "      <td>227.089556</td>\n",
       "      <td>...</td>\n",
       "      <td>7.2435</td>\n",
       "      <td>8.018000</td>\n",
       "      <td>9.0270</td>\n",
       "      <td>5.54775</td>\n",
       "      <td>5.4380</td>\n",
       "      <td>5.9545</td>\n",
       "      <td>5.8455</td>\n",
       "      <td>9.4555</td>\n",
       "      <td>6.5730</td>\n",
       "      <td>5.3745</td>\n",
       "    </tr>\n",
       "    <tr>\n",
       "      <th>3</th>\n",
       "      <td>UCL</td>\n",
       "      <td>2021</td>\n",
       "      <td>10</td>\n",
       "      <td>United Kingdom</td>\n",
       "      <td>London</td>\n",
       "      <td>Europe</td>\n",
       "      <td>Public</td>\n",
       "      <td>Very High</td>\n",
       "      <td>5.0</td>\n",
       "      <td>227.089556</td>\n",
       "      <td>...</td>\n",
       "      <td>7.2435</td>\n",
       "      <td>8.018000</td>\n",
       "      <td>9.0270</td>\n",
       "      <td>5.54775</td>\n",
       "      <td>5.4380</td>\n",
       "      <td>5.9545</td>\n",
       "      <td>5.8455</td>\n",
       "      <td>9.4555</td>\n",
       "      <td>6.5730</td>\n",
       "      <td>5.3745</td>\n",
       "    </tr>\n",
       "    <tr>\n",
       "      <th>4</th>\n",
       "      <td>National University of Singapore (NUS)</td>\n",
       "      <td>2021</td>\n",
       "      <td>11</td>\n",
       "      <td>Singapore</td>\n",
       "      <td>Singapore</td>\n",
       "      <td>Asia</td>\n",
       "      <td>Public</td>\n",
       "      <td>Very High</td>\n",
       "      <td>7.0</td>\n",
       "      <td>227.089556</td>\n",
       "      <td>...</td>\n",
       "      <td>9.9715</td>\n",
       "      <td>7.682667</td>\n",
       "      <td>8.2465</td>\n",
       "      <td>7.95425</td>\n",
       "      <td>7.4785</td>\n",
       "      <td>9.9590</td>\n",
       "      <td>8.4470</td>\n",
       "      <td>7.4225</td>\n",
       "      <td>6.4950</td>\n",
       "      <td>5.8340</td>\n",
       "    </tr>\n",
       "    <tr>\n",
       "      <th>...</th>\n",
       "      <td>...</td>\n",
       "      <td>...</td>\n",
       "      <td>...</td>\n",
       "      <td>...</td>\n",
       "      <td>...</td>\n",
       "      <td>...</td>\n",
       "      <td>...</td>\n",
       "      <td>...</td>\n",
       "      <td>...</td>\n",
       "      <td>...</td>\n",
       "      <td>...</td>\n",
       "      <td>...</td>\n",
       "      <td>...</td>\n",
       "      <td>...</td>\n",
       "      <td>...</td>\n",
       "      <td>...</td>\n",
       "      <td>...</td>\n",
       "      <td>...</td>\n",
       "      <td>...</td>\n",
       "      <td>...</td>\n",
       "      <td>...</td>\n",
       "    </tr>\n",
       "    <tr>\n",
       "      <th>350</th>\n",
       "      <td>University of the Western Cape</td>\n",
       "      <td>2021</td>\n",
       "      <td>1001</td>\n",
       "      <td>South Africa</td>\n",
       "      <td>Cape Town</td>\n",
       "      <td>Africa</td>\n",
       "      <td>Public</td>\n",
       "      <td>High</td>\n",
       "      <td>24.0</td>\n",
       "      <td>227.089556</td>\n",
       "      <td>...</td>\n",
       "      <td>5.3280</td>\n",
       "      <td>4.343000</td>\n",
       "      <td>0.8945</td>\n",
       "      <td>6.60850</td>\n",
       "      <td>2.7680</td>\n",
       "      <td>5.1510</td>\n",
       "      <td>5.6125</td>\n",
       "      <td>4.7360</td>\n",
       "      <td>3.6605</td>\n",
       "      <td>6.7505</td>\n",
       "    </tr>\n",
       "    <tr>\n",
       "      <th>351</th>\n",
       "      <td>University POLITEHNICA of Bucharest</td>\n",
       "      <td>2021</td>\n",
       "      <td>1001</td>\n",
       "      <td>Romania</td>\n",
       "      <td>Bucharest</td>\n",
       "      <td>Europe</td>\n",
       "      <td>Public</td>\n",
       "      <td>Very High</td>\n",
       "      <td>24.0</td>\n",
       "      <td>922.000000</td>\n",
       "      <td>...</td>\n",
       "      <td>8.9860</td>\n",
       "      <td>6.075333</td>\n",
       "      <td>2.4475</td>\n",
       "      <td>3.41925</td>\n",
       "      <td>4.1030</td>\n",
       "      <td>6.8390</td>\n",
       "      <td>9.6380</td>\n",
       "      <td>6.9595</td>\n",
       "      <td>8.6865</td>\n",
       "      <td>1.9675</td>\n",
       "    </tr>\n",
       "    <tr>\n",
       "      <th>352</th>\n",
       "      <td>Université de Toulouse II-Le Mirail</td>\n",
       "      <td>2021</td>\n",
       "      <td>1001</td>\n",
       "      <td>France</td>\n",
       "      <td>Toulouse</td>\n",
       "      <td>Europe</td>\n",
       "      <td>Public</td>\n",
       "      <td>High</td>\n",
       "      <td>58.0</td>\n",
       "      <td>227.089556</td>\n",
       "      <td>...</td>\n",
       "      <td>6.9670</td>\n",
       "      <td>8.832000</td>\n",
       "      <td>4.4420</td>\n",
       "      <td>5.07975</td>\n",
       "      <td>4.2045</td>\n",
       "      <td>2.6480</td>\n",
       "      <td>4.6220</td>\n",
       "      <td>4.1370</td>\n",
       "      <td>7.6335</td>\n",
       "      <td>3.3040</td>\n",
       "    </tr>\n",
       "    <tr>\n",
       "      <th>353</th>\n",
       "      <td>Warsaw University of Life Sciences – SGGW (WUL...</td>\n",
       "      <td>2021</td>\n",
       "      <td>1001</td>\n",
       "      <td>Poland</td>\n",
       "      <td>Warsaw</td>\n",
       "      <td>Europe</td>\n",
       "      <td>Public</td>\n",
       "      <td>Very High</td>\n",
       "      <td>12.0</td>\n",
       "      <td>227.089556</td>\n",
       "      <td>...</td>\n",
       "      <td>8.6995</td>\n",
       "      <td>6.881667</td>\n",
       "      <td>4.6685</td>\n",
       "      <td>6.38900</td>\n",
       "      <td>4.7615</td>\n",
       "      <td>5.0970</td>\n",
       "      <td>6.0000</td>\n",
       "      <td>7.3355</td>\n",
       "      <td>4.6360</td>\n",
       "      <td>4.9610</td>\n",
       "    </tr>\n",
       "    <tr>\n",
       "      <th>354</th>\n",
       "      <td>Yildiz Technical University</td>\n",
       "      <td>2021</td>\n",
       "      <td>1001</td>\n",
       "      <td>Turkey</td>\n",
       "      <td>Istanbul</td>\n",
       "      <td>Asia</td>\n",
       "      <td>Public</td>\n",
       "      <td>High</td>\n",
       "      <td>20.0</td>\n",
       "      <td>227.089556</td>\n",
       "      <td>...</td>\n",
       "      <td>6.8935</td>\n",
       "      <td>6.840000</td>\n",
       "      <td>2.1525</td>\n",
       "      <td>3.40475</td>\n",
       "      <td>4.0935</td>\n",
       "      <td>4.3235</td>\n",
       "      <td>3.5005</td>\n",
       "      <td>10.0000</td>\n",
       "      <td>3.8925</td>\n",
       "      <td>5.7435</td>\n",
       "    </tr>\n",
       "  </tbody>\n",
       "</table>\n",
       "<p>355 rows × 29 columns</p>\n",
       "</div>"
      ],
      "text/plain": [
       "                                            university  year rank_display  \\\n",
       "0                                 University of Oxford  2021            5   \n",
       "1                              University of Cambridge  2021            7   \n",
       "2                              Imperial College London  2021            8   \n",
       "3                                                  UCL  2021           10   \n",
       "4               National University of Singapore (NUS)  2021           11   \n",
       "..                                                 ...   ...          ...   \n",
       "350                     University of the Western Cape  2021         1001   \n",
       "351                University POLITEHNICA of Bucharest  2021         1001   \n",
       "352                Université de Toulouse II-Le Mirail  2021         1001   \n",
       "353  Warsaw University of Life Sciences – SGGW (WUL...  2021         1001   \n",
       "354                        Yildiz Technical University  2021         1001   \n",
       "\n",
       "            country       city  region    type research_output  \\\n",
       "0    United Kingdom     Oxford  Europe  Public       Very High   \n",
       "1    United Kingdom  Cambridge  Europe  Public       Very high   \n",
       "2    United Kingdom     London  Europe  Public       Very High   \n",
       "3    United Kingdom     London  Europe  Public       Very High   \n",
       "4         Singapore  Singapore    Asia  Public       Very High   \n",
       "..              ...        ...     ...     ...             ...   \n",
       "350    South Africa  Cape Town  Africa  Public            High   \n",
       "351         Romania  Bucharest  Europe  Public       Very High   \n",
       "352          France   Toulouse  Europe  Public            High   \n",
       "353          Poland     Warsaw  Europe  Public       Very High   \n",
       "354          Turkey   Istanbul    Asia  Public            High   \n",
       "\n",
       "     student_faculty_ratio  international_students  ...  Safety  Healthcare  \\\n",
       "0                      3.0              227.089556  ...  8.5685    7.970000   \n",
       "1                      4.0              227.089556  ...  9.5045    8.189000   \n",
       "2                      5.0              227.089556  ...  7.2435    8.018000   \n",
       "3                      5.0              227.089556  ...  7.2435    8.018000   \n",
       "4                      7.0              227.089556  ...  9.9715    7.682667   \n",
       "..                     ...                     ...  ...     ...         ...   \n",
       "350                   24.0              227.089556  ...  5.3280    4.343000   \n",
       "351                   24.0              922.000000  ...  8.9860    6.075333   \n",
       "352                   58.0              227.089556  ...  6.9670    8.832000   \n",
       "353                   12.0              227.089556  ...  8.6995    6.881667   \n",
       "354                   20.0              227.089556  ...  6.8935    6.840000   \n",
       "\n",
       "     Education  Environmental Quality  Economy  Taxation  Internet Access  \\\n",
       "0       6.6380                7.55375   5.4380    5.9545           6.1545   \n",
       "1       6.5545                8.01650   5.4380    5.9545           5.8095   \n",
       "2       9.0270                5.54775   5.4380    5.9545           5.8455   \n",
       "3       9.0270                5.54775   5.4380    5.9545           5.8455   \n",
       "4       8.2465                7.95425   7.4785    9.9590           8.4470   \n",
       "..         ...                    ...      ...       ...              ...   \n",
       "350     0.8945                6.60850   2.7680    5.1510           5.6125   \n",
       "351     2.4475                3.41925   4.1030    6.8390           9.6380   \n",
       "352     4.4420                5.07975   4.2045    2.6480           4.6220   \n",
       "353     4.6685                6.38900   4.7615    5.0970           6.0000   \n",
       "354     2.1525                3.40475   4.0935    4.3235           3.5005   \n",
       "\n",
       "     Leisure & Culture  Tolerance  Outdoors  \n",
       "0               5.4950     8.2580    2.6290  \n",
       "1               2.4550     8.4870    0.5000  \n",
       "2               9.4555     6.5730    5.3745  \n",
       "3               9.4555     6.5730    5.3745  \n",
       "4               7.4225     6.4950    5.8340  \n",
       "..                 ...        ...       ...  \n",
       "350             4.7360     3.6605    6.7505  \n",
       "351             6.9595     8.6865    1.9675  \n",
       "352             4.1370     7.6335    3.3040  \n",
       "353             7.3355     4.6360    4.9610  \n",
       "354            10.0000     3.8925    5.7435  \n",
       "\n",
       "[355 rows x 29 columns]"
      ]
     },
     "execution_count": 411,
     "metadata": {},
     "output_type": "execute_result"
    }
   ],
   "source": [
    "data.drop('index', inplace=True, axis=1)\n",
    "data"
   ]
  },
  {
   "cell_type": "code",
   "execution_count": 412,
   "metadata": {},
   "outputs": [
    {
     "data": {
      "text/plain": [
       "(355, 29)"
      ]
     },
     "execution_count": 412,
     "metadata": {},
     "output_type": "execute_result"
    }
   ],
   "source": [
    "data.shape"
   ]
  },
  {
   "cell_type": "code",
   "execution_count": 413,
   "metadata": {},
   "outputs": [
    {
     "data": {
      "text/plain": [
       "array(['Public', 'Private'], dtype=object)"
      ]
     },
     "execution_count": 413,
     "metadata": {},
     "output_type": "execute_result"
    }
   ],
   "source": [
    "data[\"type\"].unique()"
   ]
  },
  {
   "cell_type": "code",
   "execution_count": 414,
   "metadata": {},
   "outputs": [
    {
     "data": {
      "text/plain": [
       "array(['Very High', 'Very high', 'High', 'Medium', 'Low'], dtype=object)"
      ]
     },
     "execution_count": 414,
     "metadata": {},
     "output_type": "execute_result"
    }
   ],
   "source": [
    "data[\"research_output\"].unique()"
   ]
  },
  {
   "cell_type": "code",
   "execution_count": 415,
   "metadata": {},
   "outputs": [],
   "source": [
    "data.loc[data[\"research_output\"]==\"Very High\",\"research_output\"]=\"Very high\""
   ]
  },
  {
   "cell_type": "code",
   "execution_count": 416,
   "metadata": {},
   "outputs": [
    {
     "data": {
      "text/plain": [
       "array(['Very high', 'High', 'Medium', 'Low'], dtype=object)"
      ]
     },
     "execution_count": 416,
     "metadata": {},
     "output_type": "execute_result"
    }
   ],
   "source": [
    "data[\"research_output\"].unique()"
   ]
  },
  {
   "cell_type": "code",
   "execution_count": 417,
   "metadata": {},
   "outputs": [
    {
     "data": {
      "text/plain": [
       "array(['L', 'XL', 'M', 'S'], dtype=object)"
      ]
     },
     "execution_count": 417,
     "metadata": {},
     "output_type": "execute_result"
    }
   ],
   "source": [
    "data[\"size\"].unique()"
   ]
  },
  {
   "cell_type": "code",
   "execution_count": 418,
   "metadata": {},
   "outputs": [
    {
     "name": "stdout",
     "output_type": "stream",
     "text": [
      "Categorical columns           : ['university', 'rank_display', 'country', 'city', 'region', 'type', 'research_output', 'size']\n",
      "Categorical columns position  : [0, 2, 3, 4, 5, 6, 7, 10]\n"
     ]
    }
   ],
   "source": [
    "catColumnsPos = [data.columns.get_loc(col) for col in list(data.select_dtypes('object').columns)]\n",
    "print('Categorical columns           : {}'.format(list(data.select_dtypes('object').columns)))\n",
    "print('Categorical columns position  : {}'.format(catColumnsPos))\n"
   ]
  },
  {
   "cell_type": "code",
   "execution_count": 419,
   "metadata": {},
   "outputs": [
    {
     "name": "stdout",
     "output_type": "stream",
     "text": [
      "Numerical columns           : ['student_faculty_ratio', 'international_students', 'faculty_count', 'Housing', 'Cost of Living', 'Startups', 'Venture Capital', 'Travel Connectivity', 'Commute', 'Business Freedom', 'Safety', 'Healthcare', 'Education', 'Environmental Quality', 'Economy', 'Taxation', 'Internet Access', 'Leisure & Culture', 'Tolerance', 'Outdoors']\n",
      "Numerical columns position  : [8, 9, 11, 12, 13, 14, 15, 16, 17, 18, 19, 20, 21, 22, 23, 24, 25, 26, 27, 28]\n"
     ]
    }
   ],
   "source": [
    "numColumnsPos = [data.columns.get_loc(col) for col in list(data.select_dtypes('float').columns)]\n",
    "print('Numerical columns           : {}'.format(list(data.select_dtypes('float').columns)))\n",
    "print('Numerical columns position  : {}'.format(numColumnsPos))\n",
    "\n"
   ]
  },
  {
   "cell_type": "code",
   "execution_count": 420,
   "metadata": {},
   "outputs": [
    {
     "data": {
      "text/plain": [
       "array([['University of Oxford', 2021, '5', ..., 5.495, 8.258000000000001,\n",
       "        2.6290000000000004],\n",
       "       ['University of Cambridge', 2021, '7', ..., 2.455,\n",
       "        8.487000000000002, 0.5],\n",
       "       ['Imperial College London', 2021, '8', ..., 9.4555,\n",
       "        6.5729999999999995, 5.3744999999999985],\n",
       "       ...,\n",
       "       ['Université de Toulouse II-Le Mirail', 2021, '1001', ...,\n",
       "        4.1370000000000005, 7.6335, 3.3040000000000003],\n",
       "       ['Warsaw University of Life Sciences – SGGW (WULS-SGGW)', 2021,\n",
       "        '1001', ..., 7.3355000000000015, 4.636000000000001, 4.961],\n",
       "       ['Yildiz Technical University', 2021, '1001', ..., 10.0, 3.8925,\n",
       "        5.7435]], dtype=object)"
      ]
     },
     "execution_count": 420,
     "metadata": {},
     "output_type": "execute_result"
    }
   ],
   "source": [
    "# Convert dataframe to matrix\n",
    "dfMatrix = data.to_numpy()\n",
    "dfMatrix"
   ]
  },
  {
   "cell_type": "code",
   "execution_count": 421,
   "metadata": {},
   "outputs": [
    {
     "data": {
      "text/plain": [
       "Text(0, 0.5, 'Cost')"
      ]
     },
     "execution_count": 421,
     "metadata": {},
     "output_type": "execute_result"
    },
    {
     "data": {
      "image/png": "[encoded data removed]",
      "text/plain": [
       "<Figure size 432x288 with 1 Axes>"
      ]
     },
     "metadata": {
      "needs_background": "light"
     },
     "output_type": "display_data"
    }
   ],
   "source": [
    "#K-Prototype\n",
    "#References: https://towardsdatascience.com/the-k-prototype-as-clustering-algorithm-for-mixed-data-type-categorical-and-numerical-fe7c50538ebb\n",
    "#            https://antonsruberts.github.io/kproto-audience/\n",
    "#            https://python.plainenglish.io/data-science-project-clustering-mixed-data-7d5fd6e7f047\n",
    "\n",
    "import seaborn as sns\n",
    "num_clusters = list(range(2, 15))\n",
    "cost_values = []\n",
    "# calculate cost values for each number of clusters (2 to 15)\n",
    "for k in num_clusters:\n",
    "    kproto = KPrototypes(n_clusters=k, init='Huang', random_state=42)\n",
    "    kproto.fit_predict(dfMatrix, categorical= catColumnsPos)\n",
    "    cost_values.append(kproto.cost_)\n",
    "# plot cost against number of clusters\n",
    "ax = sns.lineplot(x=num_clusters, y=cost_values, marker=\"o\")\n",
    "ax.set_title('Elbow curve', fontsize=14)\n",
    "ax.set_xlabel('No of clusters', fontsize=11)\n",
    "ax.set_ylabel('Cost', fontsize=11)"
   ]
  },
  {
   "cell_type": "code",
   "execution_count": 422,
   "metadata": {},
   "outputs": [],
   "source": [
    "kprototype = KPrototypes(n_jobs = -1, n_clusters = 6, init = 'Huang', random_state = 0)\n",
    "clusters=kprototype.fit_predict(dfMatrix, categorical = catColumnsPos)"
   ]
  },
  {
   "cell_type": "code",
   "execution_count": 423,
   "metadata": {},
   "outputs": [
    {
     "name": "stdout",
     "output_type": "stream",
     "text": [
      "[['2021.0' '13.816901408450704' '48.933721439749625' '5.516183098591548'\n",
      "  '7.317584507042252' '6.712153183892084' '4.749072941876614'\n",
      "  '3.423613648085697' '4.180598591549297' '5.121429577464789'\n",
      "  '6.834131455399062' '7.3619507042253565' '7.0359906103286365'\n",
      "  '3.8844389803610397' '5.242154929577468' '4.420901408450705'\n",
      "  '5.247401408450705' '4.987802816901411' '6.988809859154927'\n",
      "  '6.308077464788733' '4.756274647887323'\n",
      "  'Abai Kazakh National Pedagogical University' '801-1000' 'South Korea'\n",
      "  'Seoul' 'Europe' 'Public' 'Very high' 'L']\n",
      " ['2021.0' '14.592592592592593' '692.5925925925926' '189.5332538011696'\n",
      "  '8.17933333333333' '7.107999999999999' '4.595203703703704'\n",
      "  '2.7198419405320813' '3.214944444444444' '5.2226449921752724'\n",
      "  '6.160160493827159' '7.3978518518518515' '6.854666666666666'\n",
      "  '3.0043025039123643' '4.6869259259259275' '3.677537037037036'\n",
      "  '5.4792592592592575' '4.320814814814814' '6.778500000000001'\n",
      "  '7.020629629629631' '4.599833333333334'\n",
      "  'AGH University of Science and Technology' '801-1000' 'Chile' 'Bangkok'\n",
      "  'Europe' 'Public' 'Very high' 'XL']\n",
      " ['2021.0' '12.556702753274527' '229.4800155038756' '377.2285034271725'\n",
      "  '6.0731337209302305' '5.717636652472982' '5.4827132492630195'\n",
      "  '4.073866950540457' '5.183546511627907' '5.231895348837211'\n",
      "  '7.605922480620155' '7.627697674418609' '7.475036821705429'\n",
      "  '5.0201085817229005' '6.03317005813954' '4.868637495905663'\n",
      "  '5.099453488372098' '5.327238372093025' '6.589625000000002'\n",
      "  '6.741409883720922' '4.859345930232558' 'Al-Azhar University' '1001'\n",
      "  'United Kingdom' 'London' 'Europe' 'Public' 'Very high' 'L']\n",
      " ['2021.0' '16.8125' '76.96378472222223' '583.2420059210526'\n",
      "  '6.231296875' '6.42634375' '5.781734375' '4.280599559859155'\n",
      "  '4.317921875000001' '5.1329140624999985' '7.218916666666666'\n",
      "  '7.155890625000001' '6.805104166666667' '4.2444427376760565'\n",
      "  '5.0460390625' '4.624375' '5.683374999999999' '4.7461875'\n",
      "  '6.601812500000001' '6.558625000000002' '4.74659375'\n",
      "  'Auckland University of Technology (AUT)' '801-1000' 'United Kingdom'\n",
      "  'London' 'Europe' 'Public' 'High' 'M']\n",
      " ['2021.0' '16.0625' '122.3466944444444' '939.46875' '5.991515625000004'\n",
      "  '5.9294375' '5.89253125' '4.355863732394366' '5.2230312500000045'\n",
      "  '5.251289062500003' '7.2937916666666665' '7.603921875'\n",
      "  '7.303083333333336' '4.983942737676054' '6.062914062500002'\n",
      "  '4.494578125000001' '5.271125000000003' '5.669890625000001'\n",
      "  '7.106015624999995' '6.780562500000001' '5.364609375'\n",
      "  'American University of Beirut (AUB)' '1001' 'United Kingdom' 'London'\n",
      "  'Europe' 'Public' 'Very high' 'L']\n",
      " ['2021.0' '15.238095238095237' '599.7142857142857' '740.8571428571429'\n",
      "  '7.44097619047619' '6.6773215291750505' '4.523063782696179'\n",
      "  '3.011679946344734' '4.0361904761904785' '5.1997261904761904'\n",
      "  '6.413507936507937' '7.648880952380952' '6.939000000000003'\n",
      "  '3.6619683433936934' '5.012964285714285' '3.95997619047619'\n",
      "  '5.187976190476191' '4.116690476190477' '6.924380952380951'\n",
      "  '6.349261904761903' '5.2173571428571455' 'Aoyama Gakuin University'\n",
      "  '1001' 'Argentina' 'Beirut' 'Asia' 'Public' 'Very high' 'M']]\n",
      "6\n",
      "8991472.107980805\n"
     ]
    }
   ],
   "source": [
    "# Cluster centorid\n",
    "print(kprototype.cluster_centroids_)\n",
    "# Check the iteration of the clusters created\n",
    "print(kprototype.n_iter_)\n",
    "# Check the cost of the clusters created\n",
    "print(kprototype.cost_)"
   ]
  },
  {
   "cell_type": "code",
   "execution_count": 424,
   "metadata": {},
   "outputs": [],
   "source": [
    "# Add the cluster to the dataframe\n",
    "data['Cluster Labels'] = kprototype.labels_\n",
    "data['Segment'] = data['Cluster Labels'].map({0:1, 1:2 ,2:3 ,3:4 ,4: 5 ,5:6 })\n",
    "# Order the cluster\n",
    "data['Segment'] = data['Segment'].astype('category')\n",
    "data['Segment'] = data['Segment'].cat.reorder_categories([1,2,3,4,5,6])"
   ]
  },
  {
   "cell_type": "code",
   "execution_count": 425,
   "metadata": {},
   "outputs": [],
   "source": [
    "lgbm_data = data.copy()\n",
    "for c in lgbm_data.select_dtypes(include='object'):\n",
    "    lgbm_data[c] = lgbm_data[c].astype('category')\n",
    "\n"
   ]
  },
  {
   "cell_type": "code",
   "execution_count": 426,
   "metadata": {},
   "outputs": [
    {
     "name": "stdout",
     "output_type": "stream",
     "text": [
      "[LightGBM] [Warning] Unknown parameter: colsample_by_tree\n",
      "[LightGBM] [Warning] Unknown parameter: colsample_by_tree\n",
      "[LightGBM] [Warning] Unknown parameter: colsample_by_tree\n",
      "[LightGBM] [Warning] Unknown parameter: colsample_by_tree\n",
      "[LightGBM] [Warning] Unknown parameter: colsample_by_tree\n",
      "CV F1 score for K-Prototypes clusters is 0.9937402190923319\n"
     ]
    }
   ],
   "source": [
    "from lightgbm import LGBMRegressor, LGBMClassifier, Booster\n",
    "from sklearn.model_selection import cross_val_score\n",
    "clf_kp = LGBMClassifier(colsample_by_tree=0.8)\n",
    "cv_scores_kp = cross_val_score(clf_kp, lgbm_data, kprototype.labels_, scoring='f1_weighted')\n",
    "print(f'CV F1 score for K-Prototypes clusters is {np.mean(cv_scores_kp)}')"
   ]
  },
  {
   "cell_type": "code",
   "execution_count": 427,
   "metadata": {},
   "outputs": [
    {
     "name": "stdout",
     "output_type": "stream",
     "text": [
      "3.0\n",
      "58.0\n"
     ]
    }
   ],
   "source": [
    "min_value = data['student_faculty_ratio'].min()\n",
    "max_value = data['student_faculty_ratio'].max()\n",
    "print(min_value)\n",
    "print(max_value)"
   ]
  },
  {
   "cell_type": "code",
   "execution_count": 428,
   "metadata": {},
   "outputs": [
    {
     "data": {
      "text/plain": [
       "array([ 3., 14., 25., 36., 47., 58.])"
      ]
     },
     "execution_count": 428,
     "metadata": {},
     "output_type": "execute_result"
    }
   ],
   "source": [
    "bins = np.linspace(min_value,max_value,6)\n",
    "bins"
   ]
  },
  {
   "cell_type": "code",
   "execution_count": 429,
   "metadata": {},
   "outputs": [],
   "source": [
    "labels = [1,2,3,4,5]"
   ]
  },
  {
   "cell_type": "code",
   "execution_count": 430,
   "metadata": {},
   "outputs": [],
   "source": [
    "data.loc[data[\"research_output\"]==\"Very high\",\"research_output\"]=4.0\n",
    "data.loc[data[\"research_output\"]==\"High\",\"research_output\"]=3.0\n",
    "data.loc[data[\"research_output\"]==\"Medimum\",\"research_output\"]=2.0\n",
    "data.loc[data[\"research_output\"]==\"Low\",\"research_output\"]=1.0"
   ]
  },
  {
   "cell_type": "code",
   "execution_count": 431,
   "metadata": {},
   "outputs": [],
   "source": [
    "data.loc[data[\"research_output\"]==\"Very high\",\"research_output\"]=4.0\n",
    "data.loc[data[\"research_output\"]==\"High\",\"research_output\"]=3.0\n",
    "data.loc[data[\"research_output\"]==\"Medium\",\"research_output\"]=2.0\n",
    "data.loc[data[\"research_output\"]==\"Low\",\"research_output\"]=1.0"
   ]
  },
  {
   "cell_type": "code",
   "execution_count": 432,
   "metadata": {},
   "outputs": [],
   "source": [
    "data.loc[data[\"size\"]==\"XL\",\"size\"]=4.0\n",
    "data.loc[data[\"size\"]==\"L\",\"size\"]=3.0\n",
    "data.loc[data[\"size\"]==\"M\",\"size\"]=2.0\n",
    "data.loc[data[\"size\"]==\"S\",\"size\"]=1.0"
   ]
  },
  {
   "cell_type": "code",
   "execution_count": 433,
   "metadata": {},
   "outputs": [],
   "source": [
    "data.loc[data[\"type\"]==\"Public\",\"type\"]=2.0\n",
    "data.loc[data[\"type\"]==\"Private\",\"type\"]=1.0"
   ]
  },
  {
   "cell_type": "code",
   "execution_count": 434,
   "metadata": {},
   "outputs": [],
   "source": [
    "#Data Binning:\n",
    "#Reference: https://github.com/alod83/data-science/blob/master/Preprocessing/Binning/Data%20Preprocessing%20-%20Binning.ipynb\n",
    "data['student_faculty_ratio'] = pd.cut(data['student_faculty_ratio'], bins=bins, labels=labels, include_lowest=True)"
   ]
  },
  {
   "cell_type": "code",
   "execution_count": 435,
   "metadata": {},
   "outputs": [
    {
     "name": "stdout",
     "output_type": "stream",
     "text": [
      "1.122\n",
      "996.0\n"
     ]
    }
   ],
   "source": [
    "min_value = data['international_students'].min()\n",
    "max_value = data['international_students'].max()\n",
    "print(min_value)\n",
    "print(max_value)"
   ]
  },
  {
   "cell_type": "code",
   "execution_count": 436,
   "metadata": {},
   "outputs": [
    {
     "data": {
      "text/plain": [
       "array([  1.122 , 200.0976, 399.0732, 598.0488, 797.0244, 996.    ])"
      ]
     },
     "execution_count": 436,
     "metadata": {},
     "output_type": "execute_result"
    }
   ],
   "source": [
    "bins = np.linspace(min_value,max_value,6)\n",
    "bins"
   ]
  },
  {
   "cell_type": "code",
   "execution_count": 437,
   "metadata": {},
   "outputs": [],
   "source": [
    "data['international_students'] = pd.cut(data['international_students'], bins=bins, labels=labels, include_lowest=True)"
   ]
  },
  {
   "cell_type": "code",
   "execution_count": 438,
   "metadata": {},
   "outputs": [
    {
     "name": "stdout",
     "output_type": "stream",
     "text": [
      "1.0170000000000001\n",
      "2724.0\n"
     ]
    }
   ],
   "source": [
    "min_value = data['faculty_count'].min()\n",
    "max_value = data['faculty_count'].max()\n",
    "print(min_value)\n",
    "print(max_value)\n"
   ]
  },
  {
   "cell_type": "code",
   "execution_count": 439,
   "metadata": {},
   "outputs": [
    {
     "data": {
      "text/plain": [
       "array([1.0170000e+00, 5.4561360e+02, 1.0902102e+03, 1.6348068e+03,\n",
       "       2.1794034e+03, 2.7240000e+03])"
      ]
     },
     "execution_count": 439,
     "metadata": {},
     "output_type": "execute_result"
    }
   ],
   "source": [
    "bins = np.linspace(min_value,max_value,6)\n",
    "bins"
   ]
  },
  {
   "cell_type": "code",
   "execution_count": 440,
   "metadata": {},
   "outputs": [],
   "source": [
    "data['faculty_count'] = pd.cut(data['faculty_count'], bins=bins, labels=labels, include_lowest=True)"
   ]
  },
  {
   "cell_type": "code",
   "execution_count": 441,
   "metadata": {},
   "outputs": [
    {
     "name": "stdout",
     "output_type": "stream",
     "text": [
      "1.0\n",
      "10.0\n"
     ]
    }
   ],
   "source": [
    "min_value = data['Housing'].min()\n",
    "max_value = data['Housing'].max()\n",
    "print(min_value)\n",
    "print(max_value)"
   ]
  },
  {
   "cell_type": "code",
   "execution_count": 442,
   "metadata": {},
   "outputs": [
    {
     "data": {
      "text/plain": [
       "array([ 1. ,  2.8,  4.6,  6.4,  8.2, 10. ])"
      ]
     },
     "execution_count": 442,
     "metadata": {},
     "output_type": "execute_result"
    }
   ],
   "source": [
    "bins = np.linspace(min_value,max_value,6)\n",
    "bins"
   ]
  },
  {
   "cell_type": "code",
   "execution_count": 443,
   "metadata": {},
   "outputs": [],
   "source": [
    "data['Housing'] = pd.cut(data['Housing'], bins=bins, labels=labels, include_lowest=True)"
   ]
  },
  {
   "cell_type": "code",
   "execution_count": 444,
   "metadata": {},
   "outputs": [
    {
     "name": "stdout",
     "output_type": "stream",
     "text": [
      "1.0\n",
      "10.0\n"
     ]
    }
   ],
   "source": [
    "min_value = data['Cost of Living'].min()\n",
    "max_value = data['Cost of Living'].max()\n",
    "print(min_value)\n",
    "print(max_value)"
   ]
  },
  {
   "cell_type": "code",
   "execution_count": 445,
   "metadata": {},
   "outputs": [
    {
     "data": {
      "text/plain": [
       "array([ 1. ,  2.8,  4.6,  6.4,  8.2, 10. ])"
      ]
     },
     "execution_count": 445,
     "metadata": {},
     "output_type": "execute_result"
    }
   ],
   "source": [
    "bins = np.linspace(min_value,max_value,6)\n",
    "bins"
   ]
  },
  {
   "cell_type": "code",
   "execution_count": 446,
   "metadata": {},
   "outputs": [],
   "source": [
    "data['Cost of Living'] = pd.cut(data['Cost of Living'], bins=bins, labels=labels, include_lowest=True)"
   ]
  },
  {
   "cell_type": "code",
   "execution_count": 447,
   "metadata": {},
   "outputs": [
    {
     "name": "stdout",
     "output_type": "stream",
     "text": [
      "1.1475\n",
      "10.0\n"
     ]
    }
   ],
   "source": [
    "min_value = data['Startups'].min()\n",
    "max_value = data['Startups'].max()\n",
    "print(min_value)\n",
    "print(max_value)"
   ]
  },
  {
   "cell_type": "code",
   "execution_count": 448,
   "metadata": {},
   "outputs": [
    {
     "data": {
      "text/plain": [
       "array([ 1.1475,  2.918 ,  4.6885,  6.459 ,  8.2295, 10.    ])"
      ]
     },
     "execution_count": 448,
     "metadata": {},
     "output_type": "execute_result"
    }
   ],
   "source": [
    "bins = np.linspace(min_value,max_value,6)\n",
    "bins"
   ]
  },
  {
   "cell_type": "code",
   "execution_count": 449,
   "metadata": {},
   "outputs": [],
   "source": [
    "data['Startups'] = pd.cut(data['Startups'], bins=bins, labels=labels, include_lowest=True)"
   ]
  },
  {
   "cell_type": "code",
   "execution_count": 450,
   "metadata": {},
   "outputs": [
    {
     "name": "stdout",
     "output_type": "stream",
     "text": [
      "1.0\n",
      "9.859\n"
     ]
    }
   ],
   "source": [
    "min_value = data['Venture Capital'].min()\n",
    "max_value = data['Venture Capital'].max()\n",
    "print(min_value)\n",
    "print(max_value)"
   ]
  },
  {
   "cell_type": "code",
   "execution_count": 451,
   "metadata": {},
   "outputs": [
    {
     "data": {
      "text/plain": [
       "array([1.    , 2.7718, 4.5436, 6.3154, 8.0872, 9.859 ])"
      ]
     },
     "execution_count": 451,
     "metadata": {},
     "output_type": "execute_result"
    }
   ],
   "source": [
    "bins = np.linspace(min_value,max_value,6)\n",
    "bins"
   ]
  },
  {
   "cell_type": "code",
   "execution_count": 452,
   "metadata": {},
   "outputs": [],
   "source": [
    "data['Venture Capital'] = pd.cut(data['Venture Capital'], bins=bins, labels=labels, include_lowest=True)"
   ]
  },
  {
   "cell_type": "code",
   "execution_count": 453,
   "metadata": {},
   "outputs": [
    {
     "name": "stdout",
     "output_type": "stream",
     "text": [
      "0.8334999999999999\n",
      "10.0\n"
     ]
    }
   ],
   "source": [
    "min_value = data['Travel Connectivity'].min()\n",
    "max_value = data['Travel Connectivity'].max()\n",
    "print(min_value)\n",
    "print(max_value)"
   ]
  },
  {
   "cell_type": "code",
   "execution_count": 454,
   "metadata": {},
   "outputs": [
    {
     "data": {
      "text/plain": [
       "array([ 0.8335,  2.6668,  4.5001,  6.3334,  8.1667, 10.    ])"
      ]
     },
     "execution_count": 454,
     "metadata": {},
     "output_type": "execute_result"
    }
   ],
   "source": [
    "bins = np.linspace(min_value,max_value,6)\n",
    "bins"
   ]
  },
  {
   "cell_type": "code",
   "execution_count": 455,
   "metadata": {},
   "outputs": [],
   "source": [
    "data['Travel Connectivity'] = pd.cut(data['Travel Connectivity'], bins=bins, labels=labels, include_lowest=True)"
   ]
  },
  {
   "cell_type": "code",
   "execution_count": 456,
   "metadata": {},
   "outputs": [
    {
     "name": "stdout",
     "output_type": "stream",
     "text": [
      "1.1420000000000001\n",
      "6.7285\n"
     ]
    }
   ],
   "source": [
    "min_value = data['Commute'].min()\n",
    "max_value = data['Commute'].max()\n",
    "print(min_value)\n",
    "print(max_value)"
   ]
  },
  {
   "cell_type": "code",
   "execution_count": 457,
   "metadata": {},
   "outputs": [
    {
     "data": {
      "text/plain": [
       "array([1.142 , 2.2593, 3.3766, 4.4939, 5.6112, 6.7285])"
      ]
     },
     "execution_count": 457,
     "metadata": {},
     "output_type": "execute_result"
    }
   ],
   "source": [
    "bins = np.linspace(min_value,max_value,6)\n",
    "bins"
   ]
  },
  {
   "cell_type": "code",
   "execution_count": 458,
   "metadata": {},
   "outputs": [],
   "source": [
    "data['Commute'] = pd.cut(data['Commute'], bins=bins, labels=labels, include_lowest=True)"
   ]
  },
  {
   "cell_type": "code",
   "execution_count": 459,
   "metadata": {},
   "outputs": [
    {
     "name": "stdout",
     "output_type": "stream",
     "text": [
      "1.0\n",
      "10.0\n"
     ]
    }
   ],
   "source": [
    "min_value = data['Business Freedom'].min()\n",
    "max_value = data['Business Freedom'].max()\n",
    "print(min_value)\n",
    "print(max_value)"
   ]
  },
  {
   "cell_type": "code",
   "execution_count": 460,
   "metadata": {},
   "outputs": [
    {
     "data": {
      "text/plain": [
       "array([ 1. ,  2.8,  4.6,  6.4,  8.2, 10. ])"
      ]
     },
     "execution_count": 460,
     "metadata": {},
     "output_type": "execute_result"
    }
   ],
   "source": [
    "bins = np.linspace(min_value,max_value,6)\n",
    "bins"
   ]
  },
  {
   "cell_type": "code",
   "execution_count": 461,
   "metadata": {},
   "outputs": [],
   "source": [
    "data['Business Freedom'] = pd.cut(data['Business Freedom'], bins=bins, labels=labels, include_lowest=True)"
   ]
  },
  {
   "cell_type": "code",
   "execution_count": 462,
   "metadata": {},
   "outputs": [
    {
     "name": "stdout",
     "output_type": "stream",
     "text": [
      "5.121000000000001\n",
      "10.0\n"
     ]
    }
   ],
   "source": [
    "min_value = data['Safety'].min()\n",
    "max_value = data['Safety'].max()\n",
    "print(min_value)\n",
    "print(max_value)"
   ]
  },
  {
   "cell_type": "code",
   "execution_count": 463,
   "metadata": {},
   "outputs": [
    {
     "data": {
      "text/plain": [
       "array([ 5.121 ,  6.0968,  7.0726,  8.0484,  9.0242, 10.    ])"
      ]
     },
     "execution_count": 463,
     "metadata": {},
     "output_type": "execute_result"
    }
   ],
   "source": [
    "bins = np.linspace(min_value,max_value,6)\n",
    "bins"
   ]
  },
  {
   "cell_type": "code",
   "execution_count": 464,
   "metadata": {},
   "outputs": [],
   "source": [
    "data['Safety'] = pd.cut(data['Safety'], bins=bins, labels=labels, include_lowest=True)"
   ]
  },
  {
   "cell_type": "code",
   "execution_count": 465,
   "metadata": {},
   "outputs": [
    {
     "name": "stdout",
     "output_type": "stream",
     "text": [
      "3.5983333333333327\n",
      "9.078666666666667\n"
     ]
    }
   ],
   "source": [
    "min_value = data['Healthcare'].min()\n",
    "max_value = data['Healthcare'].max()\n",
    "print(min_value)\n",
    "print(max_value)"
   ]
  },
  {
   "cell_type": "code",
   "execution_count": 466,
   "metadata": {},
   "outputs": [
    {
     "data": {
      "text/plain": [
       "array([3.59833333, 4.6944    , 5.79046667, 6.88653333, 7.9826    ,\n",
       "       9.07866667])"
      ]
     },
     "execution_count": 466,
     "metadata": {},
     "output_type": "execute_result"
    }
   ],
   "source": [
    "bins = np.linspace(min_value,max_value,6)\n",
    "bins"
   ]
  },
  {
   "cell_type": "code",
   "execution_count": 467,
   "metadata": {},
   "outputs": [],
   "source": [
    "data['Healthcare'] = pd.cut(data['Healthcare'], bins=bins, labels=labels, include_lowest=True)"
   ]
  },
  {
   "cell_type": "code",
   "execution_count": 468,
   "metadata": {},
   "outputs": [
    {
     "name": "stdout",
     "output_type": "stream",
     "text": [
      "0.5\n",
      "9.027000000000001\n"
     ]
    }
   ],
   "source": [
    "min_value = data['Education'].min()\n",
    "max_value = data['Education'].max()\n",
    "print(min_value)\n",
    "print(max_value)"
   ]
  },
  {
   "cell_type": "code",
   "execution_count": 469,
   "metadata": {},
   "outputs": [
    {
     "data": {
      "text/plain": [
       "array([0.5   , 2.2054, 3.9108, 5.6162, 7.3216, 9.027 ])"
      ]
     },
     "execution_count": 469,
     "metadata": {},
     "output_type": "execute_result"
    }
   ],
   "source": [
    "bins = np.linspace(min_value,max_value,6)\n",
    "bins"
   ]
  },
  {
   "cell_type": "code",
   "execution_count": 470,
   "metadata": {},
   "outputs": [],
   "source": [
    "data['Education'] = pd.cut(data['Education'], bins=bins, labels=labels, include_lowest=True)"
   ]
  },
  {
   "cell_type": "code",
   "execution_count": 471,
   "metadata": {},
   "outputs": [
    {
     "name": "stdout",
     "output_type": "stream",
     "text": [
      "1.1555000000000002\n",
      "9.416\n"
     ]
    }
   ],
   "source": [
    "min_value = data['Environmental Quality'].min()\n",
    "max_value = data['Environmental Quality'].max()\n",
    "print(min_value)\n",
    "print(max_value)"
   ]
  },
  {
   "cell_type": "code",
   "execution_count": 472,
   "metadata": {},
   "outputs": [
    {
     "data": {
      "text/plain": [
       "array([1.1555, 2.8076, 4.4597, 6.1118, 7.7639, 9.416 ])"
      ]
     },
     "execution_count": 472,
     "metadata": {},
     "output_type": "execute_result"
    }
   ],
   "source": [
    "bins = np.linspace(min_value,max_value,6)\n",
    "bins"
   ]
  },
  {
   "cell_type": "code",
   "execution_count": 473,
   "metadata": {},
   "outputs": [],
   "source": [
    "data['Environmental Quality'] = pd.cut(data['Environmental Quality'], bins=bins, labels=labels, include_lowest=True)"
   ]
  },
  {
   "cell_type": "code",
   "execution_count": 474,
   "metadata": {},
   "outputs": [
    {
     "name": "stdout",
     "output_type": "stream",
     "text": [
      "1.6380000000000001\n",
      "9.39\n"
     ]
    }
   ],
   "source": [
    "min_value = data['Economy'].min()\n",
    "max_value = data['Economy'].max()\n",
    "print(min_value)\n",
    "print(max_value)"
   ]
  },
  {
   "cell_type": "code",
   "execution_count": 475,
   "metadata": {},
   "outputs": [
    {
     "data": {
      "text/plain": [
       "array([1.638 , 3.1884, 4.7388, 6.2892, 7.8396, 9.39  ])"
      ]
     },
     "execution_count": 475,
     "metadata": {},
     "output_type": "execute_result"
    }
   ],
   "source": [
    "bins = np.linspace(min_value,max_value,6)\n",
    "bins"
   ]
  },
  {
   "cell_type": "code",
   "execution_count": 476,
   "metadata": {},
   "outputs": [],
   "source": [
    "data['Economy'] = pd.cut(data['Economy'], bins=bins, labels=labels, include_lowest=True)"
   ]
  },
  {
   "cell_type": "code",
   "execution_count": 477,
   "metadata": {},
   "outputs": [
    {
     "name": "stdout",
     "output_type": "stream",
     "text": [
      "0.5\n",
      "10.0\n"
     ]
    }
   ],
   "source": [
    "min_value = data['Taxation'].min()\n",
    "max_value = data['Taxation'].max()\n",
    "print(min_value)\n",
    "print(max_value)"
   ]
  },
  {
   "cell_type": "code",
   "execution_count": 478,
   "metadata": {},
   "outputs": [
    {
     "data": {
      "text/plain": [
       "array([ 0.5,  2.4,  4.3,  6.2,  8.1, 10. ])"
      ]
     },
     "execution_count": 478,
     "metadata": {},
     "output_type": "execute_result"
    }
   ],
   "source": [
    "bins = np.linspace(min_value,max_value,6)\n",
    "bins"
   ]
  },
  {
   "cell_type": "code",
   "execution_count": 479,
   "metadata": {},
   "outputs": [],
   "source": [
    "data['Taxation'] = pd.cut(data['Taxation'], bins=bins, labels=labels, include_lowest=True)"
   ]
  },
  {
   "cell_type": "code",
   "execution_count": 480,
   "metadata": {},
   "outputs": [
    {
     "name": "stdout",
     "output_type": "stream",
     "text": [
      "1.0\n",
      "9.716000000000001\n"
     ]
    }
   ],
   "source": [
    "min_value = data['Internet Access'].min()\n",
    "max_value = data['Internet Access'].max()\n",
    "print(min_value)\n",
    "print(max_value)"
   ]
  },
  {
   "cell_type": "code",
   "execution_count": 481,
   "metadata": {},
   "outputs": [
    {
     "data": {
      "text/plain": [
       "array([1.    , 2.7432, 4.4864, 6.2296, 7.9728, 9.716 ])"
      ]
     },
     "execution_count": 481,
     "metadata": {},
     "output_type": "execute_result"
    }
   ],
   "source": [
    "bins = np.linspace(min_value,max_value,6)\n",
    "bins"
   ]
  },
  {
   "cell_type": "code",
   "execution_count": 482,
   "metadata": {},
   "outputs": [],
   "source": [
    "data['Internet Access'] = pd.cut(data['Internet Access'], bins=bins, labels=labels, include_lowest=True)"
   ]
  },
  {
   "cell_type": "code",
   "execution_count": 483,
   "metadata": {},
   "outputs": [
    {
     "name": "stdout",
     "output_type": "stream",
     "text": [
      "1.0\n",
      "10.0\n"
     ]
    }
   ],
   "source": [
    "min_value = data['Leisure & Culture'].min()\n",
    "max_value = data['Leisure & Culture'].max()\n",
    "print(min_value)\n",
    "print(max_value)"
   ]
  },
  {
   "cell_type": "code",
   "execution_count": 484,
   "metadata": {},
   "outputs": [
    {
     "data": {
      "text/plain": [
       "array([ 1. ,  2.8,  4.6,  6.4,  8.2, 10. ])"
      ]
     },
     "execution_count": 484,
     "metadata": {},
     "output_type": "execute_result"
    }
   ],
   "source": [
    "bins = np.linspace(min_value,max_value,6)\n",
    "bins"
   ]
  },
  {
   "cell_type": "code",
   "execution_count": 485,
   "metadata": {},
   "outputs": [],
   "source": [
    "data['Leisure & Culture'] = pd.cut(data['Leisure & Culture'], bins=bins, labels=labels, include_lowest=True)"
   ]
  },
  {
   "cell_type": "code",
   "execution_count": 486,
   "metadata": {},
   "outputs": [
    {
     "name": "stdout",
     "output_type": "stream",
     "text": [
      "1.528\n",
      "9.71\n"
     ]
    }
   ],
   "source": [
    "min_value = data['Tolerance'].min()\n",
    "max_value = data['Tolerance'].max()\n",
    "print(min_value)\n",
    "print(max_value)"
   ]
  },
  {
   "cell_type": "code",
   "execution_count": 487,
   "metadata": {},
   "outputs": [
    {
     "data": {
      "text/plain": [
       "array([1.528 , 3.1644, 4.8008, 6.4372, 8.0736, 9.71  ])"
      ]
     },
     "execution_count": 487,
     "metadata": {},
     "output_type": "execute_result"
    }
   ],
   "source": [
    "bins = np.linspace(min_value,max_value,6)\n",
    "bins"
   ]
  },
  {
   "cell_type": "code",
   "execution_count": 488,
   "metadata": {},
   "outputs": [],
   "source": [
    "data['Tolerance'] = pd.cut(data['Tolerance'], bins=bins, labels=labels, include_lowest=True)  "
   ]
  },
  {
   "cell_type": "code",
   "execution_count": 489,
   "metadata": {},
   "outputs": [
    {
     "name": "stdout",
     "output_type": "stream",
     "text": [
      "0.5\n",
      "7.504499999999998\n"
     ]
    }
   ],
   "source": [
    "min_value = data['Outdoors'].min()\n",
    "max_value = data['Outdoors'].max()\n",
    "print(min_value)\n",
    "print(max_value)"
   ]
  },
  {
   "cell_type": "code",
   "execution_count": 490,
   "metadata": {},
   "outputs": [
    {
     "data": {
      "text/plain": [
       "array([0.5   , 1.9009, 3.3018, 4.7027, 6.1036, 7.5045])"
      ]
     },
     "execution_count": 490,
     "metadata": {},
     "output_type": "execute_result"
    }
   ],
   "source": [
    "bins = np.linspace(min_value,max_value,6)\n",
    "bins"
   ]
  },
  {
   "cell_type": "code",
   "execution_count": 491,
   "metadata": {},
   "outputs": [],
   "source": [
    "data['Outdoors'] = pd.cut(data['Outdoors'], bins=bins, labels=labels, include_lowest=True)  "
   ]
  },
  {
   "cell_type": "code",
   "execution_count": 492,
   "metadata": {},
   "outputs": [
    {
     "data": {
      "text/html": [
       "<div>\n",
       "<style scoped>\n",
       "    .dataframe tbody tr th:only-of-type {\n",
       "        vertical-align: middle;\n",
       "    }\n",
       "\n",
       "    .dataframe tbody tr th {\n",
       "        vertical-align: top;\n",
       "    }\n",
       "\n",
       "    .dataframe thead th {\n",
       "        text-align: right;\n",
       "    }\n",
       "</style>\n",
       "<table border=\"1\" class=\"dataframe\">\n",
       "  <thead>\n",
       "    <tr style=\"text-align: right;\">\n",
       "      <th></th>\n",
       "      <th>university</th>\n",
       "      <th>type</th>\n",
       "      <th>research_output</th>\n",
       "      <th>student_faculty_ratio</th>\n",
       "      <th>international_students</th>\n",
       "      <th>size</th>\n",
       "      <th>faculty_count</th>\n",
       "      <th>Housing</th>\n",
       "      <th>Cost of Living</th>\n",
       "      <th>Startups</th>\n",
       "      <th>...</th>\n",
       "      <th>Healthcare</th>\n",
       "      <th>Education</th>\n",
       "      <th>Environmental Quality</th>\n",
       "      <th>Economy</th>\n",
       "      <th>Taxation</th>\n",
       "      <th>Internet Access</th>\n",
       "      <th>Leisure &amp; Culture</th>\n",
       "      <th>Tolerance</th>\n",
       "      <th>Outdoors</th>\n",
       "      <th>Segment</th>\n",
       "    </tr>\n",
       "  </thead>\n",
       "  <tbody>\n",
       "    <tr>\n",
       "      <th>0</th>\n",
       "      <td>University of Oxford</td>\n",
       "      <td>2</td>\n",
       "      <td>4</td>\n",
       "      <td>1</td>\n",
       "      <td>2</td>\n",
       "      <td>3</td>\n",
       "      <td>1</td>\n",
       "      <td>2</td>\n",
       "      <td>3</td>\n",
       "      <td>2</td>\n",
       "      <td>...</td>\n",
       "      <td>4</td>\n",
       "      <td>4</td>\n",
       "      <td>4</td>\n",
       "      <td>3</td>\n",
       "      <td>3</td>\n",
       "      <td>3</td>\n",
       "      <td>3</td>\n",
       "      <td>5</td>\n",
       "      <td>2</td>\n",
       "      <td>3</td>\n",
       "    </tr>\n",
       "    <tr>\n",
       "      <th>1</th>\n",
       "      <td>University of Cambridge</td>\n",
       "      <td>2</td>\n",
       "      <td>4</td>\n",
       "      <td>1</td>\n",
       "      <td>2</td>\n",
       "      <td>3</td>\n",
       "      <td>1</td>\n",
       "      <td>2</td>\n",
       "      <td>3</td>\n",
       "      <td>3</td>\n",
       "      <td>...</td>\n",
       "      <td>5</td>\n",
       "      <td>4</td>\n",
       "      <td>5</td>\n",
       "      <td>3</td>\n",
       "      <td>3</td>\n",
       "      <td>3</td>\n",
       "      <td>1</td>\n",
       "      <td>5</td>\n",
       "      <td>1</td>\n",
       "      <td>3</td>\n",
       "    </tr>\n",
       "    <tr>\n",
       "      <th>2</th>\n",
       "      <td>Imperial College London</td>\n",
       "      <td>2</td>\n",
       "      <td>4</td>\n",
       "      <td>1</td>\n",
       "      <td>2</td>\n",
       "      <td>3</td>\n",
       "      <td>1</td>\n",
       "      <td>1</td>\n",
       "      <td>2</td>\n",
       "      <td>5</td>\n",
       "      <td>...</td>\n",
       "      <td>5</td>\n",
       "      <td>5</td>\n",
       "      <td>3</td>\n",
       "      <td>3</td>\n",
       "      <td>3</td>\n",
       "      <td>3</td>\n",
       "      <td>5</td>\n",
       "      <td>4</td>\n",
       "      <td>4</td>\n",
       "      <td>3</td>\n",
       "    </tr>\n",
       "    <tr>\n",
       "      <th>3</th>\n",
       "      <td>UCL</td>\n",
       "      <td>2</td>\n",
       "      <td>4</td>\n",
       "      <td>1</td>\n",
       "      <td>2</td>\n",
       "      <td>4</td>\n",
       "      <td>1</td>\n",
       "      <td>1</td>\n",
       "      <td>2</td>\n",
       "      <td>5</td>\n",
       "      <td>...</td>\n",
       "      <td>5</td>\n",
       "      <td>5</td>\n",
       "      <td>3</td>\n",
       "      <td>3</td>\n",
       "      <td>3</td>\n",
       "      <td>3</td>\n",
       "      <td>5</td>\n",
       "      <td>4</td>\n",
       "      <td>4</td>\n",
       "      <td>3</td>\n",
       "    </tr>\n",
       "    <tr>\n",
       "      <th>4</th>\n",
       "      <td>National University of Singapore (NUS)</td>\n",
       "      <td>2</td>\n",
       "      <td>4</td>\n",
       "      <td>1</td>\n",
       "      <td>2</td>\n",
       "      <td>4</td>\n",
       "      <td>1</td>\n",
       "      <td>1</td>\n",
       "      <td>2</td>\n",
       "      <td>5</td>\n",
       "      <td>...</td>\n",
       "      <td>4</td>\n",
       "      <td>5</td>\n",
       "      <td>5</td>\n",
       "      <td>4</td>\n",
       "      <td>5</td>\n",
       "      <td>5</td>\n",
       "      <td>4</td>\n",
       "      <td>4</td>\n",
       "      <td>4</td>\n",
       "      <td>3</td>\n",
       "    </tr>\n",
       "    <tr>\n",
       "      <th>...</th>\n",
       "      <td>...</td>\n",
       "      <td>...</td>\n",
       "      <td>...</td>\n",
       "      <td>...</td>\n",
       "      <td>...</td>\n",
       "      <td>...</td>\n",
       "      <td>...</td>\n",
       "      <td>...</td>\n",
       "      <td>...</td>\n",
       "      <td>...</td>\n",
       "      <td>...</td>\n",
       "      <td>...</td>\n",
       "      <td>...</td>\n",
       "      <td>...</td>\n",
       "      <td>...</td>\n",
       "      <td>...</td>\n",
       "      <td>...</td>\n",
       "      <td>...</td>\n",
       "      <td>...</td>\n",
       "      <td>...</td>\n",
       "      <td>...</td>\n",
       "    </tr>\n",
       "    <tr>\n",
       "      <th>350</th>\n",
       "      <td>University of the Western Cape</td>\n",
       "      <td>2</td>\n",
       "      <td>3</td>\n",
       "      <td>2</td>\n",
       "      <td>2</td>\n",
       "      <td>3</td>\n",
       "      <td>2</td>\n",
       "      <td>4</td>\n",
       "      <td>4</td>\n",
       "      <td>3</td>\n",
       "      <td>...</td>\n",
       "      <td>1</td>\n",
       "      <td>1</td>\n",
       "      <td>4</td>\n",
       "      <td>1</td>\n",
       "      <td>3</td>\n",
       "      <td>3</td>\n",
       "      <td>3</td>\n",
       "      <td>2</td>\n",
       "      <td>5</td>\n",
       "      <td>5</td>\n",
       "    </tr>\n",
       "    <tr>\n",
       "      <th>351</th>\n",
       "      <td>University POLITEHNICA of Bucharest</td>\n",
       "      <td>2</td>\n",
       "      <td>4</td>\n",
       "      <td>2</td>\n",
       "      <td>5</td>\n",
       "      <td>3</td>\n",
       "      <td>1</td>\n",
       "      <td>5</td>\n",
       "      <td>5</td>\n",
       "      <td>3</td>\n",
       "      <td>...</td>\n",
       "      <td>3</td>\n",
       "      <td>2</td>\n",
       "      <td>2</td>\n",
       "      <td>2</td>\n",
       "      <td>4</td>\n",
       "      <td>5</td>\n",
       "      <td>4</td>\n",
       "      <td>5</td>\n",
       "      <td>2</td>\n",
       "      <td>2</td>\n",
       "    </tr>\n",
       "    <tr>\n",
       "      <th>352</th>\n",
       "      <td>Université de Toulouse II-Le Mirail</td>\n",
       "      <td>2</td>\n",
       "      <td>3</td>\n",
       "      <td>5</td>\n",
       "      <td>2</td>\n",
       "      <td>4</td>\n",
       "      <td>1</td>\n",
       "      <td>4</td>\n",
       "      <td>2</td>\n",
       "      <td>2</td>\n",
       "      <td>...</td>\n",
       "      <td>5</td>\n",
       "      <td>3</td>\n",
       "      <td>3</td>\n",
       "      <td>2</td>\n",
       "      <td>2</td>\n",
       "      <td>3</td>\n",
       "      <td>2</td>\n",
       "      <td>4</td>\n",
       "      <td>3</td>\n",
       "      <td>3</td>\n",
       "    </tr>\n",
       "    <tr>\n",
       "      <th>353</th>\n",
       "      <td>Warsaw University of Life Sciences – SGGW (WUL...</td>\n",
       "      <td>2</td>\n",
       "      <td>4</td>\n",
       "      <td>1</td>\n",
       "      <td>2</td>\n",
       "      <td>3</td>\n",
       "      <td>1</td>\n",
       "      <td>4</td>\n",
       "      <td>4</td>\n",
       "      <td>3</td>\n",
       "      <td>...</td>\n",
       "      <td>3</td>\n",
       "      <td>3</td>\n",
       "      <td>4</td>\n",
       "      <td>3</td>\n",
       "      <td>3</td>\n",
       "      <td>3</td>\n",
       "      <td>4</td>\n",
       "      <td>2</td>\n",
       "      <td>4</td>\n",
       "      <td>3</td>\n",
       "    </tr>\n",
       "    <tr>\n",
       "      <th>354</th>\n",
       "      <td>Yildiz Technical University</td>\n",
       "      <td>2</td>\n",
       "      <td>3</td>\n",
       "      <td>2</td>\n",
       "      <td>2</td>\n",
       "      <td>4</td>\n",
       "      <td>1</td>\n",
       "      <td>5</td>\n",
       "      <td>5</td>\n",
       "      <td>4</td>\n",
       "      <td>...</td>\n",
       "      <td>3</td>\n",
       "      <td>1</td>\n",
       "      <td>2</td>\n",
       "      <td>2</td>\n",
       "      <td>3</td>\n",
       "      <td>2</td>\n",
       "      <td>5</td>\n",
       "      <td>2</td>\n",
       "      <td>4</td>\n",
       "      <td>3</td>\n",
       "    </tr>\n",
       "  </tbody>\n",
       "</table>\n",
       "<p>355 rows × 25 columns</p>\n",
       "</div>"
      ],
      "text/plain": [
       "                                            university type research_output  \\\n",
       "0                                 University of Oxford    2               4   \n",
       "1                              University of Cambridge    2               4   \n",
       "2                              Imperial College London    2               4   \n",
       "3                                                  UCL    2               4   \n",
       "4               National University of Singapore (NUS)    2               4   \n",
       "..                                                 ...  ...             ...   \n",
       "350                     University of the Western Cape    2               3   \n",
       "351                University POLITEHNICA of Bucharest    2               4   \n",
       "352                Université de Toulouse II-Le Mirail    2               3   \n",
       "353  Warsaw University of Life Sciences – SGGW (WUL...    2               4   \n",
       "354                        Yildiz Technical University    2               3   \n",
       "\n",
       "    student_faculty_ratio international_students size faculty_count Housing  \\\n",
       "0                       1                      2    3             1       2   \n",
       "1                       1                      2    3             1       2   \n",
       "2                       1                      2    3             1       1   \n",
       "3                       1                      2    4             1       1   \n",
       "4                       1                      2    4             1       1   \n",
       "..                    ...                    ...  ...           ...     ...   \n",
       "350                     2                      2    3             2       4   \n",
       "351                     2                      5    3             1       5   \n",
       "352                     5                      2    4             1       4   \n",
       "353                     1                      2    3             1       4   \n",
       "354                     2                      2    4             1       5   \n",
       "\n",
       "    Cost of Living Startups  ... Healthcare Education Environmental Quality  \\\n",
       "0                3        2  ...          4         4                     4   \n",
       "1                3        3  ...          5         4                     5   \n",
       "2                2        5  ...          5         5                     3   \n",
       "3                2        5  ...          5         5                     3   \n",
       "4                2        5  ...          4         5                     5   \n",
       "..             ...      ...  ...        ...       ...                   ...   \n",
       "350              4        3  ...          1         1                     4   \n",
       "351              5        3  ...          3         2                     2   \n",
       "352              2        2  ...          5         3                     3   \n",
       "353              4        3  ...          3         3                     4   \n",
       "354              5        4  ...          3         1                     2   \n",
       "\n",
       "    Economy Taxation Internet Access Leisure & Culture Tolerance Outdoors  \\\n",
       "0         3        3               3                 3         5        2   \n",
       "1         3        3               3                 1         5        1   \n",
       "2         3        3               3                 5         4        4   \n",
       "3         3        3               3                 5         4        4   \n",
       "4         4        5               5                 4         4        4   \n",
       "..      ...      ...             ...               ...       ...      ...   \n",
       "350       1        3               3                 3         2        5   \n",
       "351       2        4               5                 4         5        2   \n",
       "352       2        2               3                 2         4        3   \n",
       "353       3        3               3                 4         2        4   \n",
       "354       2        3               2                 5         2        4   \n",
       "\n",
       "    Segment  \n",
       "0         3  \n",
       "1         3  \n",
       "2         3  \n",
       "3         3  \n",
       "4         3  \n",
       "..      ...  \n",
       "350       5  \n",
       "351       2  \n",
       "352       3  \n",
       "353       3  \n",
       "354       3  \n",
       "\n",
       "[355 rows x 25 columns]"
      ]
     },
     "execution_count": 492,
     "metadata": {},
     "output_type": "execute_result"
    }
   ],
   "source": [
    "data2 = data.drop([\"rank_display\",\"region\", \"country\", \"city\", \"year\", \"Cluster Labels\"], axis=1)\n",
    "data2"
   ]
  },
  {
   "cell_type": "code",
   "execution_count": 493,
   "metadata": {},
   "outputs": [
    {
     "data": {
      "text/html": [
       "<div>\n",
       "<style scoped>\n",
       "    .dataframe tbody tr th:only-of-type {\n",
       "        vertical-align: middle;\n",
       "    }\n",
       "\n",
       "    .dataframe tbody tr th {\n",
       "        vertical-align: top;\n",
       "    }\n",
       "\n",
       "    .dataframe thead th {\n",
       "        text-align: right;\n",
       "    }\n",
       "</style>\n",
       "<table border=\"1\" class=\"dataframe\">\n",
       "  <thead>\n",
       "    <tr style=\"text-align: right;\">\n",
       "      <th></th>\n",
       "      <th>type</th>\n",
       "      <th>research_output</th>\n",
       "      <th>student_faculty_ratio</th>\n",
       "      <th>international_students</th>\n",
       "      <th>size</th>\n",
       "      <th>faculty_count</th>\n",
       "      <th>Housing</th>\n",
       "      <th>Cost of Living</th>\n",
       "      <th>Startups</th>\n",
       "      <th>Venture Capital</th>\n",
       "      <th>...</th>\n",
       "      <th>Healthcare</th>\n",
       "      <th>Education</th>\n",
       "      <th>Environmental Quality</th>\n",
       "      <th>Economy</th>\n",
       "      <th>Taxation</th>\n",
       "      <th>Internet Access</th>\n",
       "      <th>Leisure &amp; Culture</th>\n",
       "      <th>Tolerance</th>\n",
       "      <th>Outdoors</th>\n",
       "      <th>Segment</th>\n",
       "    </tr>\n",
       "  </thead>\n",
       "  <tbody>\n",
       "    <tr>\n",
       "      <th>0</th>\n",
       "      <td>2</td>\n",
       "      <td>4</td>\n",
       "      <td>1</td>\n",
       "      <td>2</td>\n",
       "      <td>3</td>\n",
       "      <td>1</td>\n",
       "      <td>2</td>\n",
       "      <td>3</td>\n",
       "      <td>2</td>\n",
       "      <td>2</td>\n",
       "      <td>...</td>\n",
       "      <td>4</td>\n",
       "      <td>4</td>\n",
       "      <td>4</td>\n",
       "      <td>3</td>\n",
       "      <td>3</td>\n",
       "      <td>3</td>\n",
       "      <td>3</td>\n",
       "      <td>5</td>\n",
       "      <td>2</td>\n",
       "      <td>3</td>\n",
       "    </tr>\n",
       "    <tr>\n",
       "      <th>1</th>\n",
       "      <td>2</td>\n",
       "      <td>4</td>\n",
       "      <td>1</td>\n",
       "      <td>2</td>\n",
       "      <td>3</td>\n",
       "      <td>1</td>\n",
       "      <td>2</td>\n",
       "      <td>3</td>\n",
       "      <td>3</td>\n",
       "      <td>2</td>\n",
       "      <td>...</td>\n",
       "      <td>5</td>\n",
       "      <td>4</td>\n",
       "      <td>5</td>\n",
       "      <td>3</td>\n",
       "      <td>3</td>\n",
       "      <td>3</td>\n",
       "      <td>1</td>\n",
       "      <td>5</td>\n",
       "      <td>1</td>\n",
       "      <td>3</td>\n",
       "    </tr>\n",
       "    <tr>\n",
       "      <th>2</th>\n",
       "      <td>2</td>\n",
       "      <td>4</td>\n",
       "      <td>1</td>\n",
       "      <td>2</td>\n",
       "      <td>3</td>\n",
       "      <td>1</td>\n",
       "      <td>1</td>\n",
       "      <td>2</td>\n",
       "      <td>5</td>\n",
       "      <td>5</td>\n",
       "      <td>...</td>\n",
       "      <td>5</td>\n",
       "      <td>5</td>\n",
       "      <td>3</td>\n",
       "      <td>3</td>\n",
       "      <td>3</td>\n",
       "      <td>3</td>\n",
       "      <td>5</td>\n",
       "      <td>4</td>\n",
       "      <td>4</td>\n",
       "      <td>3</td>\n",
       "    </tr>\n",
       "    <tr>\n",
       "      <th>3</th>\n",
       "      <td>2</td>\n",
       "      <td>4</td>\n",
       "      <td>1</td>\n",
       "      <td>2</td>\n",
       "      <td>4</td>\n",
       "      <td>1</td>\n",
       "      <td>1</td>\n",
       "      <td>2</td>\n",
       "      <td>5</td>\n",
       "      <td>5</td>\n",
       "      <td>...</td>\n",
       "      <td>5</td>\n",
       "      <td>5</td>\n",
       "      <td>3</td>\n",
       "      <td>3</td>\n",
       "      <td>3</td>\n",
       "      <td>3</td>\n",
       "      <td>5</td>\n",
       "      <td>4</td>\n",
       "      <td>4</td>\n",
       "      <td>3</td>\n",
       "    </tr>\n",
       "    <tr>\n",
       "      <th>4</th>\n",
       "      <td>2</td>\n",
       "      <td>4</td>\n",
       "      <td>1</td>\n",
       "      <td>2</td>\n",
       "      <td>4</td>\n",
       "      <td>1</td>\n",
       "      <td>1</td>\n",
       "      <td>2</td>\n",
       "      <td>5</td>\n",
       "      <td>5</td>\n",
       "      <td>...</td>\n",
       "      <td>4</td>\n",
       "      <td>5</td>\n",
       "      <td>5</td>\n",
       "      <td>4</td>\n",
       "      <td>5</td>\n",
       "      <td>5</td>\n",
       "      <td>4</td>\n",
       "      <td>4</td>\n",
       "      <td>4</td>\n",
       "      <td>3</td>\n",
       "    </tr>\n",
       "    <tr>\n",
       "      <th>...</th>\n",
       "      <td>...</td>\n",
       "      <td>...</td>\n",
       "      <td>...</td>\n",
       "      <td>...</td>\n",
       "      <td>...</td>\n",
       "      <td>...</td>\n",
       "      <td>...</td>\n",
       "      <td>...</td>\n",
       "      <td>...</td>\n",
       "      <td>...</td>\n",
       "      <td>...</td>\n",
       "      <td>...</td>\n",
       "      <td>...</td>\n",
       "      <td>...</td>\n",
       "      <td>...</td>\n",
       "      <td>...</td>\n",
       "      <td>...</td>\n",
       "      <td>...</td>\n",
       "      <td>...</td>\n",
       "      <td>...</td>\n",
       "      <td>...</td>\n",
       "    </tr>\n",
       "    <tr>\n",
       "      <th>350</th>\n",
       "      <td>2</td>\n",
       "      <td>3</td>\n",
       "      <td>2</td>\n",
       "      <td>2</td>\n",
       "      <td>3</td>\n",
       "      <td>2</td>\n",
       "      <td>4</td>\n",
       "      <td>4</td>\n",
       "      <td>3</td>\n",
       "      <td>2</td>\n",
       "      <td>...</td>\n",
       "      <td>1</td>\n",
       "      <td>1</td>\n",
       "      <td>4</td>\n",
       "      <td>1</td>\n",
       "      <td>3</td>\n",
       "      <td>3</td>\n",
       "      <td>3</td>\n",
       "      <td>2</td>\n",
       "      <td>5</td>\n",
       "      <td>5</td>\n",
       "    </tr>\n",
       "    <tr>\n",
       "      <th>351</th>\n",
       "      <td>2</td>\n",
       "      <td>4</td>\n",
       "      <td>2</td>\n",
       "      <td>5</td>\n",
       "      <td>3</td>\n",
       "      <td>1</td>\n",
       "      <td>5</td>\n",
       "      <td>5</td>\n",
       "      <td>3</td>\n",
       "      <td>1</td>\n",
       "      <td>...</td>\n",
       "      <td>3</td>\n",
       "      <td>2</td>\n",
       "      <td>2</td>\n",
       "      <td>2</td>\n",
       "      <td>4</td>\n",
       "      <td>5</td>\n",
       "      <td>4</td>\n",
       "      <td>5</td>\n",
       "      <td>2</td>\n",
       "      <td>2</td>\n",
       "    </tr>\n",
       "    <tr>\n",
       "      <th>352</th>\n",
       "      <td>2</td>\n",
       "      <td>3</td>\n",
       "      <td>5</td>\n",
       "      <td>2</td>\n",
       "      <td>4</td>\n",
       "      <td>1</td>\n",
       "      <td>4</td>\n",
       "      <td>2</td>\n",
       "      <td>2</td>\n",
       "      <td>1</td>\n",
       "      <td>...</td>\n",
       "      <td>5</td>\n",
       "      <td>3</td>\n",
       "      <td>3</td>\n",
       "      <td>2</td>\n",
       "      <td>2</td>\n",
       "      <td>3</td>\n",
       "      <td>2</td>\n",
       "      <td>4</td>\n",
       "      <td>3</td>\n",
       "      <td>3</td>\n",
       "    </tr>\n",
       "    <tr>\n",
       "      <th>353</th>\n",
       "      <td>2</td>\n",
       "      <td>4</td>\n",
       "      <td>1</td>\n",
       "      <td>2</td>\n",
       "      <td>3</td>\n",
       "      <td>1</td>\n",
       "      <td>4</td>\n",
       "      <td>4</td>\n",
       "      <td>3</td>\n",
       "      <td>1</td>\n",
       "      <td>...</td>\n",
       "      <td>3</td>\n",
       "      <td>3</td>\n",
       "      <td>4</td>\n",
       "      <td>3</td>\n",
       "      <td>3</td>\n",
       "      <td>3</td>\n",
       "      <td>4</td>\n",
       "      <td>2</td>\n",
       "      <td>4</td>\n",
       "      <td>3</td>\n",
       "    </tr>\n",
       "    <tr>\n",
       "      <th>354</th>\n",
       "      <td>2</td>\n",
       "      <td>3</td>\n",
       "      <td>2</td>\n",
       "      <td>2</td>\n",
       "      <td>4</td>\n",
       "      <td>1</td>\n",
       "      <td>5</td>\n",
       "      <td>5</td>\n",
       "      <td>4</td>\n",
       "      <td>1</td>\n",
       "      <td>...</td>\n",
       "      <td>3</td>\n",
       "      <td>1</td>\n",
       "      <td>2</td>\n",
       "      <td>2</td>\n",
       "      <td>3</td>\n",
       "      <td>2</td>\n",
       "      <td>5</td>\n",
       "      <td>2</td>\n",
       "      <td>4</td>\n",
       "      <td>3</td>\n",
       "    </tr>\n",
       "  </tbody>\n",
       "</table>\n",
       "<p>355 rows × 24 columns</p>\n",
       "</div>"
      ],
      "text/plain": [
       "    type research_output student_faculty_ratio international_students size  \\\n",
       "0      2               4                     1                      2    3   \n",
       "1      2               4                     1                      2    3   \n",
       "2      2               4                     1                      2    3   \n",
       "3      2               4                     1                      2    4   \n",
       "4      2               4                     1                      2    4   \n",
       "..   ...             ...                   ...                    ...  ...   \n",
       "350    2               3                     2                      2    3   \n",
       "351    2               4                     2                      5    3   \n",
       "352    2               3                     5                      2    4   \n",
       "353    2               4                     1                      2    3   \n",
       "354    2               3                     2                      2    4   \n",
       "\n",
       "    faculty_count Housing Cost of Living Startups Venture Capital  ...  \\\n",
       "0               1       2              3        2               2  ...   \n",
       "1               1       2              3        3               2  ...   \n",
       "2               1       1              2        5               5  ...   \n",
       "3               1       1              2        5               5  ...   \n",
       "4               1       1              2        5               5  ...   \n",
       "..            ...     ...            ...      ...             ...  ...   \n",
       "350             2       4              4        3               2  ...   \n",
       "351             1       5              5        3               1  ...   \n",
       "352             1       4              2        2               1  ...   \n",
       "353             1       4              4        3               1  ...   \n",
       "354             1       5              5        4               1  ...   \n",
       "\n",
       "    Healthcare Education Environmental Quality Economy Taxation  \\\n",
       "0            4         4                     4       3        3   \n",
       "1            5         4                     5       3        3   \n",
       "2            5         5                     3       3        3   \n",
       "3            5         5                     3       3        3   \n",
       "4            4         5                     5       4        5   \n",
       "..         ...       ...                   ...     ...      ...   \n",
       "350          1         1                     4       1        3   \n",
       "351          3         2                     2       2        4   \n",
       "352          5         3                     3       2        2   \n",
       "353          3         3                     4       3        3   \n",
       "354          3         1                     2       2        3   \n",
       "\n",
       "    Internet Access Leisure & Culture Tolerance Outdoors Segment  \n",
       "0                 3                 3         5        2       3  \n",
       "1                 3                 1         5        1       3  \n",
       "2                 3                 5         4        4       3  \n",
       "3                 3                 5         4        4       3  \n",
       "4                 5                 4         4        4       3  \n",
       "..              ...               ...       ...      ...     ...  \n",
       "350               3                 3         2        5       5  \n",
       "351               5                 4         5        2       2  \n",
       "352               3                 2         4        3       3  \n",
       "353               3                 4         2        4       3  \n",
       "354               2                 5         2        4       3  \n",
       "\n",
       "[355 rows x 24 columns]"
      ]
     },
     "execution_count": 493,
     "metadata": {},
     "output_type": "execute_result"
    }
   ],
   "source": [
    "data = data.drop([\"university\", \"rank_display\",\"region\", \"country\", \"city\", \"year\", \"Cluster Labels\"], axis=1)\n",
    "data"
   ]
  },
  {
   "cell_type": "code",
   "execution_count": 494,
   "metadata": {},
   "outputs": [
    {
     "data": {
      "text/plain": [
       "type                        object\n",
       "research_output             object\n",
       "student_faculty_ratio     category\n",
       "international_students    category\n",
       "size                        object\n",
       "faculty_count             category\n",
       "Housing                   category\n",
       "Cost of Living            category\n",
       "Startups                  category\n",
       "Venture Capital           category\n",
       "Travel Connectivity       category\n",
       "Commute                   category\n",
       "Business Freedom          category\n",
       "Safety                    category\n",
       "Healthcare                category\n",
       "Education                 category\n",
       "Environmental Quality     category\n",
       "Economy                   category\n",
       "Taxation                  category\n",
       "Internet Access           category\n",
       "Leisure & Culture         category\n",
       "Tolerance                 category\n",
       "Outdoors                  category\n",
       "Segment                   category\n",
       "dtype: object"
      ]
     },
     "execution_count": 494,
     "metadata": {},
     "output_type": "execute_result"
    }
   ],
   "source": [
    "data.dtypes"
   ]
  },
  {
   "cell_type": "code",
   "execution_count": 495,
   "metadata": {},
   "outputs": [],
   "source": [
    "data[['type', 'research_output', 'student_faculty_ratio',\n",
    "       'international_students', 'size', 'faculty_count', 'Housing',\n",
    "       'Cost of Living', 'Startups', 'Venture Capital', 'Travel Connectivity',\n",
    "       'Commute', 'Business Freedom', 'Safety', 'Healthcare', 'Education',\n",
    "       'Environmental Quality', 'Economy', 'Taxation', 'Internet Access',\n",
    "       'Leisure & Culture', 'Tolerance', 'Outdoors', 'Segment']]= data[['type', 'research_output', 'student_faculty_ratio',\n",
    "       'international_students', 'size', 'faculty_count', 'Housing',\n",
    "       'Cost of Living', 'Startups', 'Venture Capital', 'Travel Connectivity',\n",
    "       'Commute', 'Business Freedom', 'Safety', 'Healthcare', 'Education',\n",
    "       'Environmental Quality', 'Economy', 'Taxation', 'Internet Access',\n",
    "       'Leisure & Culture', 'Tolerance', 'Outdoors', 'Segment']].apply(pd.to_numeric)\n",
    "   "
   ]
  },
  {
   "cell_type": "code",
   "execution_count": 496,
   "metadata": {},
   "outputs": [
    {
     "data": {
      "text/plain": [
       "type                      float64\n",
       "research_output           float64\n",
       "student_faculty_ratio       int64\n",
       "international_students      int64\n",
       "size                      float64\n",
       "faculty_count               int64\n",
       "Housing                     int64\n",
       "Cost of Living              int64\n",
       "Startups                    int64\n",
       "Venture Capital             int64\n",
       "Travel Connectivity         int64\n",
       "Commute                     int64\n",
       "Business Freedom            int64\n",
       "Safety                      int64\n",
       "Healthcare                  int64\n",
       "Education                   int64\n",
       "Environmental Quality       int64\n",
       "Economy                     int64\n",
       "Taxation                    int64\n",
       "Internet Access             int64\n",
       "Leisure & Culture           int64\n",
       "Tolerance                   int64\n",
       "Outdoors                    int64\n",
       "Segment                     int64\n",
       "dtype: object"
      ]
     },
     "execution_count": 496,
     "metadata": {},
     "output_type": "execute_result"
    }
   ],
   "source": [
    "data.dtypes"
   ]
  },
  {
   "cell_type": "code",
   "execution_count": 497,
   "metadata": {},
   "outputs": [
    {
     "data": {
      "text/plain": [
       "(355, 24)"
      ]
     },
     "execution_count": 497,
     "metadata": {},
     "output_type": "execute_result"
    }
   ],
   "source": [
    "data.shape"
   ]
  },
  {
   "cell_type": "code",
   "execution_count": 498,
   "metadata": {},
   "outputs": [],
   "source": [
    "X= data.drop([\"Segment\"],axis=1)\n",
    "y= data[\"Segment\"]"
   ]
  },
  {
   "cell_type": "code",
   "execution_count": 499,
   "metadata": {},
   "outputs": [
    {
     "data": {
      "text/plain": [
       "0      3\n",
       "1      3\n",
       "2      3\n",
       "3      3\n",
       "4      3\n",
       "      ..\n",
       "350    5\n",
       "351    2\n",
       "352    3\n",
       "353    3\n",
       "354    3\n",
       "Name: Segment, Length: 355, dtype: int64"
      ]
     },
     "execution_count": 499,
     "metadata": {},
     "output_type": "execute_result"
    }
   ],
   "source": [
    "y"
   ]
  },
  {
   "cell_type": "code",
   "execution_count": 500,
   "metadata": {},
   "outputs": [],
   "source": [
    "X_train, X_test, y_train, y_test= train_test_split(X, y, test_size= 0.2, random_state= 42)"
   ]
  },
  {
   "cell_type": "code",
   "execution_count": 501,
   "metadata": {},
   "outputs": [],
   "source": [
    "from sklearn.ensemble import RandomForestClassifier\n",
    "RandomForestClassifier=RandomForestClassifier()"
   ]
  },
  {
   "cell_type": "code",
   "execution_count": 502,
   "metadata": {},
   "outputs": [
    {
     "name": "stdout",
     "output_type": "stream",
     "text": [
      "0.7746478873239436\n"
     ]
    }
   ],
   "source": [
    "from sklearn.metrics import accuracy_score\n",
    "\n",
    "RandomForestClassifier.fit(X_train, y_train)\n",
    "\n",
    "prediction=RandomForestClassifier.predict(X_test)\n",
    "\n",
    "accuracy=accuracy_score(y_test, prediction)\n",
    "\n",
    "print(accuracy)"
   ]
  },
  {
   "cell_type": "code",
   "execution_count": 503,
   "metadata": {},
   "outputs": [],
   "source": [
    "user_X=np.array([(2, 2, 3,\n",
    "       1, 1, 1, 1,\n",
    "       1, 4, 3, 4,\n",
    "       1, 1, 2, 4, 3,\n",
    "       4, 1, 1, 4,\n",
    "       4, 1, 4)])"
   ]
  },
  {
   "cell_type": "code",
   "execution_count": 504,
   "metadata": {},
   "outputs": [],
   "source": [
    "user_X2=np.array([(1, 1, 3,\n",
    "       5, 5, 5, 1,\n",
    "       1, 4, 3, 4,\n",
    "       1, 3, 2, 4, 3,\n",
    "       4, 1, 1, 4,\n",
    "       6, 1, 4)])"
   ]
  },
  {
   "cell_type": "code",
   "execution_count": 505,
   "metadata": {},
   "outputs": [
    {
     "data": {
      "text/plain": [
       "(1, 23)"
      ]
     },
     "execution_count": 505,
     "metadata": {},
     "output_type": "execute_result"
    }
   ],
   "source": [
    "user_X.shape"
   ]
  },
  {
   "cell_type": "code",
   "execution_count": 506,
   "metadata": {},
   "outputs": [],
   "source": [
    "#Saving the model as a pickle file\n",
    "#Reference: https://www.analyticsvidhya.com/blog/2021/08/quick-hacks-to-save-machine-learning-model-using-pickle-and-joblib/\n",
    "import pickle"
   ]
  },
  {
   "cell_type": "code",
   "execution_count": 507,
   "metadata": {},
   "outputs": [],
   "source": [
    "with open('model.pkl', 'wb') as files:\n",
    "    pickle.dump(RandomForestClassifier, files)"
   ]
  },
  {
   "cell_type": "code",
   "execution_count": 508,
   "metadata": {},
   "outputs": [],
   "source": [
    "with open('model.pkl' , 'rb') as f:\n",
    "    lr = pickle.load(f)"
   ]
  },
  {
   "cell_type": "code",
   "execution_count": 509,
   "metadata": {},
   "outputs": [],
   "source": [
    "cluster=lr.predict(user_X)"
   ]
  },
  {
   "cell_type": "code",
   "execution_count": 510,
   "metadata": {},
   "outputs": [],
   "source": [
    "cluster2=lr.predict(user_X2)"
   ]
  },
  {
   "cell_type": "code",
   "execution_count": 511,
   "metadata": {},
   "outputs": [
    {
     "data": {
      "text/plain": [
       "array([3], dtype=int64)"
      ]
     },
     "execution_count": 511,
     "metadata": {},
     "output_type": "execute_result"
    }
   ],
   "source": [
    "cluster"
   ]
  },
  {
   "cell_type": "code",
   "execution_count": 512,
   "metadata": {},
   "outputs": [
    {
     "data": {
      "text/plain": [
       "array([6], dtype=int64)"
      ]
     },
     "execution_count": 512,
     "metadata": {},
     "output_type": "execute_result"
    }
   ],
   "source": [
    "cluster2"
   ]
  },
  {
   "cell_type": "code",
   "execution_count": 513,
   "metadata": {},
   "outputs": [],
   "source": [
    "universities=(data2[data2[\"Segment\"]==cluster[0]].university).to_frame()"
   ]
  },
  {
   "cell_type": "code",
   "execution_count": 514,
   "metadata": {},
   "outputs": [],
   "source": [
    "universities2=(data2[data2[\"Segment\"]==cluster2[0]].university).to_frame()"
   ]
  },
  {
   "cell_type": "code",
   "execution_count": 515,
   "metadata": {},
   "outputs": [
    {
     "data": {
      "text/html": [
       "<div>\n",
       "<style scoped>\n",
       "    .dataframe tbody tr th:only-of-type {\n",
       "        vertical-align: middle;\n",
       "    }\n",
       "\n",
       "    .dataframe tbody tr th {\n",
       "        vertical-align: top;\n",
       "    }\n",
       "\n",
       "    .dataframe thead th {\n",
       "        text-align: right;\n",
       "    }\n",
       "</style>\n",
       "<table border=\"1\" class=\"dataframe\">\n",
       "  <thead>\n",
       "    <tr style=\"text-align: right;\">\n",
       "      <th></th>\n",
       "      <th>type</th>\n",
       "      <th>research_output</th>\n",
       "      <th>student_faculty_ratio</th>\n",
       "      <th>international_students</th>\n",
       "      <th>size</th>\n",
       "      <th>faculty_count</th>\n",
       "      <th>Housing</th>\n",
       "      <th>Cost of Living</th>\n",
       "      <th>Startups</th>\n",
       "      <th>Venture Capital</th>\n",
       "      <th>...</th>\n",
       "      <th>Healthcare</th>\n",
       "      <th>Education</th>\n",
       "      <th>Environmental Quality</th>\n",
       "      <th>Economy</th>\n",
       "      <th>Taxation</th>\n",
       "      <th>Internet Access</th>\n",
       "      <th>Leisure &amp; Culture</th>\n",
       "      <th>Tolerance</th>\n",
       "      <th>Outdoors</th>\n",
       "      <th>Segment</th>\n",
       "    </tr>\n",
       "  </thead>\n",
       "  <tbody>\n",
       "    <tr>\n",
       "      <th>0</th>\n",
       "      <td>2.0</td>\n",
       "      <td>4.0</td>\n",
       "      <td>1</td>\n",
       "      <td>2</td>\n",
       "      <td>3.0</td>\n",
       "      <td>1</td>\n",
       "      <td>2</td>\n",
       "      <td>3</td>\n",
       "      <td>2</td>\n",
       "      <td>2</td>\n",
       "      <td>...</td>\n",
       "      <td>4</td>\n",
       "      <td>4</td>\n",
       "      <td>4</td>\n",
       "      <td>3</td>\n",
       "      <td>3</td>\n",
       "      <td>3</td>\n",
       "      <td>3</td>\n",
       "      <td>5</td>\n",
       "      <td>2</td>\n",
       "      <td>3</td>\n",
       "    </tr>\n",
       "    <tr>\n",
       "      <th>1</th>\n",
       "      <td>2.0</td>\n",
       "      <td>4.0</td>\n",
       "      <td>1</td>\n",
       "      <td>2</td>\n",
       "      <td>3.0</td>\n",
       "      <td>1</td>\n",
       "      <td>2</td>\n",
       "      <td>3</td>\n",
       "      <td>3</td>\n",
       "      <td>2</td>\n",
       "      <td>...</td>\n",
       "      <td>5</td>\n",
       "      <td>4</td>\n",
       "      <td>5</td>\n",
       "      <td>3</td>\n",
       "      <td>3</td>\n",
       "      <td>3</td>\n",
       "      <td>1</td>\n",
       "      <td>5</td>\n",
       "      <td>1</td>\n",
       "      <td>3</td>\n",
       "    </tr>\n",
       "    <tr>\n",
       "      <th>2</th>\n",
       "      <td>2.0</td>\n",
       "      <td>4.0</td>\n",
       "      <td>1</td>\n",
       "      <td>2</td>\n",
       "      <td>3.0</td>\n",
       "      <td>1</td>\n",
       "      <td>1</td>\n",
       "      <td>2</td>\n",
       "      <td>5</td>\n",
       "      <td>5</td>\n",
       "      <td>...</td>\n",
       "      <td>5</td>\n",
       "      <td>5</td>\n",
       "      <td>3</td>\n",
       "      <td>3</td>\n",
       "      <td>3</td>\n",
       "      <td>3</td>\n",
       "      <td>5</td>\n",
       "      <td>4</td>\n",
       "      <td>4</td>\n",
       "      <td>3</td>\n",
       "    </tr>\n",
       "    <tr>\n",
       "      <th>3</th>\n",
       "      <td>2.0</td>\n",
       "      <td>4.0</td>\n",
       "      <td>1</td>\n",
       "      <td>2</td>\n",
       "      <td>4.0</td>\n",
       "      <td>1</td>\n",
       "      <td>1</td>\n",
       "      <td>2</td>\n",
       "      <td>5</td>\n",
       "      <td>5</td>\n",
       "      <td>...</td>\n",
       "      <td>5</td>\n",
       "      <td>5</td>\n",
       "      <td>3</td>\n",
       "      <td>3</td>\n",
       "      <td>3</td>\n",
       "      <td>3</td>\n",
       "      <td>5</td>\n",
       "      <td>4</td>\n",
       "      <td>4</td>\n",
       "      <td>3</td>\n",
       "    </tr>\n",
       "    <tr>\n",
       "      <th>4</th>\n",
       "      <td>2.0</td>\n",
       "      <td>4.0</td>\n",
       "      <td>1</td>\n",
       "      <td>2</td>\n",
       "      <td>4.0</td>\n",
       "      <td>1</td>\n",
       "      <td>1</td>\n",
       "      <td>2</td>\n",
       "      <td>5</td>\n",
       "      <td>5</td>\n",
       "      <td>...</td>\n",
       "      <td>4</td>\n",
       "      <td>5</td>\n",
       "      <td>5</td>\n",
       "      <td>4</td>\n",
       "      <td>5</td>\n",
       "      <td>5</td>\n",
       "      <td>4</td>\n",
       "      <td>4</td>\n",
       "      <td>4</td>\n",
       "      <td>3</td>\n",
       "    </tr>\n",
       "    <tr>\n",
       "      <th>...</th>\n",
       "      <td>...</td>\n",
       "      <td>...</td>\n",
       "      <td>...</td>\n",
       "      <td>...</td>\n",
       "      <td>...</td>\n",
       "      <td>...</td>\n",
       "      <td>...</td>\n",
       "      <td>...</td>\n",
       "      <td>...</td>\n",
       "      <td>...</td>\n",
       "      <td>...</td>\n",
       "      <td>...</td>\n",
       "      <td>...</td>\n",
       "      <td>...</td>\n",
       "      <td>...</td>\n",
       "      <td>...</td>\n",
       "      <td>...</td>\n",
       "      <td>...</td>\n",
       "      <td>...</td>\n",
       "      <td>...</td>\n",
       "      <td>...</td>\n",
       "    </tr>\n",
       "    <tr>\n",
       "      <th>350</th>\n",
       "      <td>2.0</td>\n",
       "      <td>3.0</td>\n",
       "      <td>2</td>\n",
       "      <td>2</td>\n",
       "      <td>3.0</td>\n",
       "      <td>2</td>\n",
       "      <td>4</td>\n",
       "      <td>4</td>\n",
       "      <td>3</td>\n",
       "      <td>2</td>\n",
       "      <td>...</td>\n",
       "      <td>1</td>\n",
       "      <td>1</td>\n",
       "      <td>4</td>\n",
       "      <td>1</td>\n",
       "      <td>3</td>\n",
       "      <td>3</td>\n",
       "      <td>3</td>\n",
       "      <td>2</td>\n",
       "      <td>5</td>\n",
       "      <td>5</td>\n",
       "    </tr>\n",
       "    <tr>\n",
       "      <th>351</th>\n",
       "      <td>2.0</td>\n",
       "      <td>4.0</td>\n",
       "      <td>2</td>\n",
       "      <td>5</td>\n",
       "      <td>3.0</td>\n",
       "      <td>1</td>\n",
       "      <td>5</td>\n",
       "      <td>5</td>\n",
       "      <td>3</td>\n",
       "      <td>1</td>\n",
       "      <td>...</td>\n",
       "      <td>3</td>\n",
       "      <td>2</td>\n",
       "      <td>2</td>\n",
       "      <td>2</td>\n",
       "      <td>4</td>\n",
       "      <td>5</td>\n",
       "      <td>4</td>\n",
       "      <td>5</td>\n",
       "      <td>2</td>\n",
       "      <td>2</td>\n",
       "    </tr>\n",
       "    <tr>\n",
       "      <th>352</th>\n",
       "      <td>2.0</td>\n",
       "      <td>3.0</td>\n",
       "      <td>5</td>\n",
       "      <td>2</td>\n",
       "      <td>4.0</td>\n",
       "      <td>1</td>\n",
       "      <td>4</td>\n",
       "      <td>2</td>\n",
       "      <td>2</td>\n",
       "      <td>1</td>\n",
       "      <td>...</td>\n",
       "      <td>5</td>\n",
       "      <td>3</td>\n",
       "      <td>3</td>\n",
       "      <td>2</td>\n",
       "      <td>2</td>\n",
       "      <td>3</td>\n",
       "      <td>2</td>\n",
       "      <td>4</td>\n",
       "      <td>3</td>\n",
       "      <td>3</td>\n",
       "    </tr>\n",
       "    <tr>\n",
       "      <th>353</th>\n",
       "      <td>2.0</td>\n",
       "      <td>4.0</td>\n",
       "      <td>1</td>\n",
       "      <td>2</td>\n",
       "      <td>3.0</td>\n",
       "      <td>1</td>\n",
       "      <td>4</td>\n",
       "      <td>4</td>\n",
       "      <td>3</td>\n",
       "      <td>1</td>\n",
       "      <td>...</td>\n",
       "      <td>3</td>\n",
       "      <td>3</td>\n",
       "      <td>4</td>\n",
       "      <td>3</td>\n",
       "      <td>3</td>\n",
       "      <td>3</td>\n",
       "      <td>4</td>\n",
       "      <td>2</td>\n",
       "      <td>4</td>\n",
       "      <td>3</td>\n",
       "    </tr>\n",
       "    <tr>\n",
       "      <th>354</th>\n",
       "      <td>2.0</td>\n",
       "      <td>3.0</td>\n",
       "      <td>2</td>\n",
       "      <td>2</td>\n",
       "      <td>4.0</td>\n",
       "      <td>1</td>\n",
       "      <td>5</td>\n",
       "      <td>5</td>\n",
       "      <td>4</td>\n",
       "      <td>1</td>\n",
       "      <td>...</td>\n",
       "      <td>3</td>\n",
       "      <td>1</td>\n",
       "      <td>2</td>\n",
       "      <td>2</td>\n",
       "      <td>3</td>\n",
       "      <td>2</td>\n",
       "      <td>5</td>\n",
       "      <td>2</td>\n",
       "      <td>4</td>\n",
       "      <td>3</td>\n",
       "    </tr>\n",
       "  </tbody>\n",
       "</table>\n",
       "<p>355 rows × 24 columns</p>\n",
       "</div>"
      ],
      "text/plain": [
       "     type  research_output  student_faculty_ratio  international_students  \\\n",
       "0     2.0              4.0                      1                       2   \n",
       "1     2.0              4.0                      1                       2   \n",
       "2     2.0              4.0                      1                       2   \n",
       "3     2.0              4.0                      1                       2   \n",
       "4     2.0              4.0                      1                       2   \n",
       "..    ...              ...                    ...                     ...   \n",
       "350   2.0              3.0                      2                       2   \n",
       "351   2.0              4.0                      2                       5   \n",
       "352   2.0              3.0                      5                       2   \n",
       "353   2.0              4.0                      1                       2   \n",
       "354   2.0              3.0                      2                       2   \n",
       "\n",
       "     size  faculty_count  Housing  Cost of Living  Startups  Venture Capital  \\\n",
       "0     3.0              1        2               3         2                2   \n",
       "1     3.0              1        2               3         3                2   \n",
       "2     3.0              1        1               2         5                5   \n",
       "3     4.0              1        1               2         5                5   \n",
       "4     4.0              1        1               2         5                5   \n",
       "..    ...            ...      ...             ...       ...              ...   \n",
       "350   3.0              2        4               4         3                2   \n",
       "351   3.0              1        5               5         3                1   \n",
       "352   4.0              1        4               2         2                1   \n",
       "353   3.0              1        4               4         3                1   \n",
       "354   4.0              1        5               5         4                1   \n",
       "\n",
       "     ...  Healthcare  Education  Environmental Quality  Economy  Taxation  \\\n",
       "0    ...           4          4                      4        3         3   \n",
       "1    ...           5          4                      5        3         3   \n",
       "2    ...           5          5                      3        3         3   \n",
       "3    ...           5          5                      3        3         3   \n",
       "4    ...           4          5                      5        4         5   \n",
       "..   ...         ...        ...                    ...      ...       ...   \n",
       "350  ...           1          1                      4        1         3   \n",
       "351  ...           3          2                      2        2         4   \n",
       "352  ...           5          3                      3        2         2   \n",
       "353  ...           3          3                      4        3         3   \n",
       "354  ...           3          1                      2        2         3   \n",
       "\n",
       "     Internet Access  Leisure & Culture  Tolerance  Outdoors  Segment  \n",
       "0                  3                  3          5         2        3  \n",
       "1                  3                  1          5         1        3  \n",
       "2                  3                  5          4         4        3  \n",
       "3                  3                  5          4         4        3  \n",
       "4                  5                  4          4         4        3  \n",
       "..               ...                ...        ...       ...      ...  \n",
       "350                3                  3          2         5        5  \n",
       "351                5                  4          5         2        2  \n",
       "352                3                  2          4         3        3  \n",
       "353                3                  4          2         4        3  \n",
       "354                2                  5          2         4        3  \n",
       "\n",
       "[355 rows x 24 columns]"
      ]
     },
     "execution_count": 515,
     "metadata": {},
     "output_type": "execute_result"
    }
   ],
   "source": [
    "data"
   ]
  },
  {
   "cell_type": "code",
   "execution_count": 516,
   "metadata": {},
   "outputs": [
    {
     "data": {
      "text/html": [
       "<div>\n",
       "<style scoped>\n",
       "    .dataframe tbody tr th:only-of-type {\n",
       "        vertical-align: middle;\n",
       "    }\n",
       "\n",
       "    .dataframe tbody tr th {\n",
       "        vertical-align: top;\n",
       "    }\n",
       "\n",
       "    .dataframe thead th {\n",
       "        text-align: right;\n",
       "    }\n",
       "</style>\n",
       "<table border=\"1\" class=\"dataframe\">\n",
       "  <thead>\n",
       "    <tr style=\"text-align: right;\">\n",
       "      <th></th>\n",
       "      <th>university</th>\n",
       "    </tr>\n",
       "  </thead>\n",
       "  <tbody>\n",
       "    <tr>\n",
       "      <th>0</th>\n",
       "      <td>University of Oxford</td>\n",
       "    </tr>\n",
       "    <tr>\n",
       "      <th>1</th>\n",
       "      <td>University of Cambridge</td>\n",
       "    </tr>\n",
       "    <tr>\n",
       "      <th>2</th>\n",
       "      <td>Imperial College London</td>\n",
       "    </tr>\n",
       "    <tr>\n",
       "      <th>3</th>\n",
       "      <td>UCL</td>\n",
       "    </tr>\n",
       "    <tr>\n",
       "      <th>4</th>\n",
       "      <td>National University of Singapore (NUS)</td>\n",
       "    </tr>\n",
       "    <tr>\n",
       "      <th>...</th>\n",
       "      <td>...</td>\n",
       "    </tr>\n",
       "    <tr>\n",
       "      <th>348</th>\n",
       "      <td>University of Sarajevo</td>\n",
       "    </tr>\n",
       "    <tr>\n",
       "      <th>349</th>\n",
       "      <td>University of the Arts London</td>\n",
       "    </tr>\n",
       "    <tr>\n",
       "      <th>352</th>\n",
       "      <td>Université de Toulouse II-Le Mirail</td>\n",
       "    </tr>\n",
       "    <tr>\n",
       "      <th>353</th>\n",
       "      <td>Warsaw University of Life Sciences – SGGW (WUL...</td>\n",
       "    </tr>\n",
       "    <tr>\n",
       "      <th>354</th>\n",
       "      <td>Yildiz Technical University</td>\n",
       "    </tr>\n",
       "  </tbody>\n",
       "</table>\n",
       "<p>172 rows × 1 columns</p>\n",
       "</div>"
      ],
      "text/plain": [
       "                                            university\n",
       "0                                 University of Oxford\n",
       "1                              University of Cambridge\n",
       "2                              Imperial College London\n",
       "3                                                  UCL\n",
       "4               National University of Singapore (NUS)\n",
       "..                                                 ...\n",
       "348                            University of Sarajevo \n",
       "349                      University of the Arts London\n",
       "352                Université de Toulouse II-Le Mirail\n",
       "353  Warsaw University of Life Sciences – SGGW (WUL...\n",
       "354                        Yildiz Technical University\n",
       "\n",
       "[172 rows x 1 columns]"
      ]
     },
     "execution_count": 516,
     "metadata": {},
     "output_type": "execute_result"
    }
   ],
   "source": [
    "universities"
   ]
  },
  {
   "cell_type": "code",
   "execution_count": 517,
   "metadata": {},
   "outputs": [
    {
     "data": {
      "text/html": [
       "<div>\n",
       "<style scoped>\n",
       "    .dataframe tbody tr th:only-of-type {\n",
       "        vertical-align: middle;\n",
       "    }\n",
       "\n",
       "    .dataframe tbody tr th {\n",
       "        vertical-align: top;\n",
       "    }\n",
       "\n",
       "    .dataframe thead th {\n",
       "        text-align: right;\n",
       "    }\n",
       "</style>\n",
       "<table border=\"1\" class=\"dataframe\">\n",
       "  <thead>\n",
       "    <tr style=\"text-align: right;\">\n",
       "      <th></th>\n",
       "      <th>university</th>\n",
       "    </tr>\n",
       "  </thead>\n",
       "  <tbody>\n",
       "    <tr>\n",
       "      <th>147</th>\n",
       "      <td>University of Oulu</td>\n",
       "    </tr>\n",
       "    <tr>\n",
       "      <th>164</th>\n",
       "      <td>Universidad de Belgrano</td>\n",
       "    </tr>\n",
       "    <tr>\n",
       "      <th>167</th>\n",
       "      <td>National Technical University of Athens</td>\n",
       "    </tr>\n",
       "    <tr>\n",
       "      <th>175</th>\n",
       "      <td>University of Balamand</td>\n",
       "    </tr>\n",
       "    <tr>\n",
       "      <th>188</th>\n",
       "      <td>Saint Joseph University of Beirut (USJ)</td>\n",
       "    </tr>\n",
       "    <tr>\n",
       "      <th>189</th>\n",
       "      <td>Bilkent University</td>\n",
       "    </tr>\n",
       "    <tr>\n",
       "      <th>194</th>\n",
       "      <td>Abo Akademi University</td>\n",
       "    </tr>\n",
       "    <tr>\n",
       "      <th>213</th>\n",
       "      <td>Bogaziçi Üniversitesi</td>\n",
       "    </tr>\n",
       "    <tr>\n",
       "      <th>217</th>\n",
       "      <td>Tokyo Metropolitan University</td>\n",
       "    </tr>\n",
       "    <tr>\n",
       "      <th>219</th>\n",
       "      <td>Universidad Pontificia Comillas</td>\n",
       "    </tr>\n",
       "    <tr>\n",
       "      <th>230</th>\n",
       "      <td>Universidad Adolfo Ibáñez</td>\n",
       "    </tr>\n",
       "    <tr>\n",
       "      <th>243</th>\n",
       "      <td>University of Seoul</td>\n",
       "    </tr>\n",
       "    <tr>\n",
       "      <th>258</th>\n",
       "      <td>De La Salle University</td>\n",
       "    </tr>\n",
       "    <tr>\n",
       "      <th>285</th>\n",
       "      <td>Universidad EAFIT</td>\n",
       "    </tr>\n",
       "    <tr>\n",
       "      <th>296</th>\n",
       "      <td>University of Latvia</td>\n",
       "    </tr>\n",
       "    <tr>\n",
       "      <th>304</th>\n",
       "      <td>Aoyama Gakuin University</td>\n",
       "    </tr>\n",
       "    <tr>\n",
       "      <th>307</th>\n",
       "      <td>Belarusian State University of Informatics and...</td>\n",
       "    </tr>\n",
       "    <tr>\n",
       "      <th>324</th>\n",
       "      <td>Russian State University for the Humanities</td>\n",
       "    </tr>\n",
       "    <tr>\n",
       "      <th>325</th>\n",
       "      <td>Seoul National University of Science and Techn...</td>\n",
       "    </tr>\n",
       "    <tr>\n",
       "      <th>330</th>\n",
       "      <td>Universidad Católica Boliviana \"San Pablo\"</td>\n",
       "    </tr>\n",
       "    <tr>\n",
       "      <th>339</th>\n",
       "      <td>Universidad Nacional de San Martín (UNSAM)</td>\n",
       "    </tr>\n",
       "  </tbody>\n",
       "</table>\n",
       "</div>"
      ],
      "text/plain": [
       "                                            university\n",
       "147                                 University of Oulu\n",
       "164                            Universidad de Belgrano\n",
       "167            National Technical University of Athens\n",
       "175                             University of Balamand\n",
       "188           Saint Joseph University of Beirut (USJ) \n",
       "189                                 Bilkent University\n",
       "194                             Abo Akademi University\n",
       "213                              Bogaziçi Üniversitesi\n",
       "217                      Tokyo Metropolitan University\n",
       "219                    Universidad Pontificia Comillas\n",
       "230                          Universidad Adolfo Ibáñez\n",
       "243                               University of Seoul \n",
       "258                             De La Salle University\n",
       "285                                  Universidad EAFIT\n",
       "296                               University of Latvia\n",
       "304                           Aoyama Gakuin University\n",
       "307  Belarusian State University of Informatics and...\n",
       "324       Russian State University for the Humanities \n",
       "325  Seoul National University of Science and Techn...\n",
       "330         Universidad Católica Boliviana \"San Pablo\"\n",
       "339         Universidad Nacional de San Martín (UNSAM)"
      ]
     },
     "execution_count": 517,
     "metadata": {},
     "output_type": "execute_result"
    }
   ],
   "source": [
    "universities2"
   ]
  }
 ],
 "metadata": {
  "interpreter": {
   "hash": "390061e0ff63e3ce62e5f7a6ed48c8a9c1d9c464b5f4099a2368fe9e3784d30e"
  },
  "kernelspec": {
   "display_name": "Python 3.8.5 ('base')",
   "language": "python",
   "name": "python3"
  },
  "language_info": {
   "codemirror_mode": {
    "name": "ipython",
    "version": 3
   },
   "file_extension": ".py",
   "mimetype": "text/x-python",
   "name": "python",
   "nbconvert_exporter": "python",
   "pygments_lexer": "ipython3",
   "version": "3.8.5"
  },
  "orig_nbformat": 4
 },
 "nbformat": 4,
 "nbformat_minor": 2
}
